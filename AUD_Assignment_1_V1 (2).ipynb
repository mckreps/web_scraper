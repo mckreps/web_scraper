{
 "cells": [
  {
   "cell_type": "markdown",
   "metadata": {
    "id": "4dmcgAW-7N-H"
   },
   "source": [
    "# **Analytics for Unstructured Data - Assignment 1**\n",
    "\n",
    "By - \n",
    "Ramya Desineedi, Neha Dipali, MC Kreps, Soumya Nayak, Walter Wu"
   ]
  },
  {
   "cell_type": "markdown",
   "metadata": {
    "id": "bQ7Xf_-Qq-o0"
   },
   "source": [
    "## **Web Scraping from Edmunds - Extracting early 10,000 posts from the thread**"
   ]
  },
  {
   "cell_type": "markdown",
   "metadata": {
    "id": "TC4CzXnW6AUG"
   },
   "source": [
    "Forum Used - https://forums.edmunds.com/discussion/2864/general/x/entry-level-luxury-performance-sedans/p1"
   ]
  },
  {
   "cell_type": "code",
   "execution_count": null,
   "metadata": {
    "colab": {
     "base_uri": "https://localhost:8080/"
    },
    "id": "kZdUda0d9EvN",
    "outputId": "fdca1c07-2d23-4dfe-a0ae-a7f134cccc12"
   },
   "outputs": [
    {
     "name": "stdout",
     "output_type": "stream",
     "text": [
      "Collecting selenium\n",
      "  Downloading selenium-3.141.0-py2.py3-none-any.whl (904 kB)\n",
      "\u001b[?25l\r",
      "\u001b[K     |▍                               | 10 kB 23.3 MB/s eta 0:00:01\r",
      "\u001b[K     |▊                               | 20 kB 27.3 MB/s eta 0:00:01\r",
      "\u001b[K     |█                               | 30 kB 14.7 MB/s eta 0:00:01\r",
      "\u001b[K     |█▌                              | 40 kB 10.4 MB/s eta 0:00:01\r",
      "\u001b[K     |█▉                              | 51 kB 5.6 MB/s eta 0:00:01\r",
      "\u001b[K     |██▏                             | 61 kB 6.0 MB/s eta 0:00:01\r",
      "\u001b[K     |██▌                             | 71 kB 5.9 MB/s eta 0:00:01\r",
      "\u001b[K     |███                             | 81 kB 6.7 MB/s eta 0:00:01\r",
      "\u001b[K     |███▎                            | 92 kB 5.0 MB/s eta 0:00:01\r",
      "\u001b[K     |███▋                            | 102 kB 5.4 MB/s eta 0:00:01\r",
      "\u001b[K     |████                            | 112 kB 5.4 MB/s eta 0:00:01\r",
      "\u001b[K     |████▍                           | 122 kB 5.4 MB/s eta 0:00:01\r",
      "\u001b[K     |████▊                           | 133 kB 5.4 MB/s eta 0:00:01\r",
      "\u001b[K     |█████                           | 143 kB 5.4 MB/s eta 0:00:01\r",
      "\u001b[K     |█████▍                          | 153 kB 5.4 MB/s eta 0:00:01\r",
      "\u001b[K     |█████▉                          | 163 kB 5.4 MB/s eta 0:00:01\r",
      "\u001b[K     |██████▏                         | 174 kB 5.4 MB/s eta 0:00:01\r",
      "\u001b[K     |██████▌                         | 184 kB 5.4 MB/s eta 0:00:01\r",
      "\u001b[K     |██████▉                         | 194 kB 5.4 MB/s eta 0:00:01\r",
      "\u001b[K     |███████▎                        | 204 kB 5.4 MB/s eta 0:00:01\r",
      "\u001b[K     |███████▋                        | 215 kB 5.4 MB/s eta 0:00:01\r",
      "\u001b[K     |████████                        | 225 kB 5.4 MB/s eta 0:00:01\r",
      "\u001b[K     |████████▎                       | 235 kB 5.4 MB/s eta 0:00:01\r",
      "\u001b[K     |████████▊                       | 245 kB 5.4 MB/s eta 0:00:01\r",
      "\u001b[K     |█████████                       | 256 kB 5.4 MB/s eta 0:00:01\r",
      "\u001b[K     |█████████▍                      | 266 kB 5.4 MB/s eta 0:00:01\r",
      "\u001b[K     |█████████▉                      | 276 kB 5.4 MB/s eta 0:00:01\r",
      "\u001b[K     |██████████▏                     | 286 kB 5.4 MB/s eta 0:00:01\r",
      "\u001b[K     |██████████▌                     | 296 kB 5.4 MB/s eta 0:00:01\r",
      "\u001b[K     |██████████▉                     | 307 kB 5.4 MB/s eta 0:00:01\r",
      "\u001b[K     |███████████▎                    | 317 kB 5.4 MB/s eta 0:00:01\r",
      "\u001b[K     |███████████▋                    | 327 kB 5.4 MB/s eta 0:00:01\r",
      "\u001b[K     |████████████                    | 337 kB 5.4 MB/s eta 0:00:01\r",
      "\u001b[K     |████████████▎                   | 348 kB 5.4 MB/s eta 0:00:01\r",
      "\u001b[K     |████████████▊                   | 358 kB 5.4 MB/s eta 0:00:01\r",
      "\u001b[K     |█████████████                   | 368 kB 5.4 MB/s eta 0:00:01\r",
      "\u001b[K     |█████████████▍                  | 378 kB 5.4 MB/s eta 0:00:01\r",
      "\u001b[K     |█████████████▊                  | 389 kB 5.4 MB/s eta 0:00:01\r",
      "\u001b[K     |██████████████▏                 | 399 kB 5.4 MB/s eta 0:00:01\r",
      "\u001b[K     |██████████████▌                 | 409 kB 5.4 MB/s eta 0:00:01\r",
      "\u001b[K     |██████████████▉                 | 419 kB 5.4 MB/s eta 0:00:01\r",
      "\u001b[K     |███████████████▏                | 430 kB 5.4 MB/s eta 0:00:01\r",
      "\u001b[K     |███████████████▋                | 440 kB 5.4 MB/s eta 0:00:01\r",
      "\u001b[K     |████████████████                | 450 kB 5.4 MB/s eta 0:00:01\r",
      "\u001b[K     |████████████████▎               | 460 kB 5.4 MB/s eta 0:00:01\r",
      "\u001b[K     |████████████████▋               | 471 kB 5.4 MB/s eta 0:00:01\r",
      "\u001b[K     |█████████████████               | 481 kB 5.4 MB/s eta 0:00:01\r",
      "\u001b[K     |█████████████████▍              | 491 kB 5.4 MB/s eta 0:00:01\r",
      "\u001b[K     |█████████████████▊              | 501 kB 5.4 MB/s eta 0:00:01\r",
      "\u001b[K     |██████████████████▏             | 512 kB 5.4 MB/s eta 0:00:01\r",
      "\u001b[K     |██████████████████▌             | 522 kB 5.4 MB/s eta 0:00:01\r",
      "\u001b[K     |██████████████████▉             | 532 kB 5.4 MB/s eta 0:00:01\r",
      "\u001b[K     |███████████████████▏            | 542 kB 5.4 MB/s eta 0:00:01\r",
      "\u001b[K     |███████████████████▋            | 552 kB 5.4 MB/s eta 0:00:01\r",
      "\u001b[K     |████████████████████            | 563 kB 5.4 MB/s eta 0:00:01\r",
      "\u001b[K     |████████████████████▎           | 573 kB 5.4 MB/s eta 0:00:01\r",
      "\u001b[K     |████████████████████▋           | 583 kB 5.4 MB/s eta 0:00:01\r",
      "\u001b[K     |█████████████████████           | 593 kB 5.4 MB/s eta 0:00:01\r",
      "\u001b[K     |█████████████████████▍          | 604 kB 5.4 MB/s eta 0:00:01\r",
      "\u001b[K     |█████████████████████▊          | 614 kB 5.4 MB/s eta 0:00:01\r",
      "\u001b[K     |██████████████████████          | 624 kB 5.4 MB/s eta 0:00:01\r",
      "\u001b[K     |██████████████████████▌         | 634 kB 5.4 MB/s eta 0:00:01\r",
      "\u001b[K     |██████████████████████▉         | 645 kB 5.4 MB/s eta 0:00:01\r",
      "\u001b[K     |███████████████████████▏        | 655 kB 5.4 MB/s eta 0:00:01\r",
      "\u001b[K     |███████████████████████▌        | 665 kB 5.4 MB/s eta 0:00:01\r",
      "\u001b[K     |████████████████████████        | 675 kB 5.4 MB/s eta 0:00:01\r",
      "\u001b[K     |████████████████████████▎       | 686 kB 5.4 MB/s eta 0:00:01\r",
      "\u001b[K     |████████████████████████▋       | 696 kB 5.4 MB/s eta 0:00:01\r",
      "\u001b[K     |█████████████████████████       | 706 kB 5.4 MB/s eta 0:00:01\r",
      "\u001b[K     |█████████████████████████▍      | 716 kB 5.4 MB/s eta 0:00:01\r",
      "\u001b[K     |█████████████████████████▊      | 727 kB 5.4 MB/s eta 0:00:01\r",
      "\u001b[K     |██████████████████████████      | 737 kB 5.4 MB/s eta 0:00:01\r",
      "\u001b[K     |██████████████████████████▍     | 747 kB 5.4 MB/s eta 0:00:01\r",
      "\u001b[K     |██████████████████████████▉     | 757 kB 5.4 MB/s eta 0:00:01\r",
      "\u001b[K     |███████████████████████████▏    | 768 kB 5.4 MB/s eta 0:00:01\r",
      "\u001b[K     |███████████████████████████▌    | 778 kB 5.4 MB/s eta 0:00:01\r",
      "\u001b[K     |████████████████████████████    | 788 kB 5.4 MB/s eta 0:00:01\r",
      "\u001b[K     |████████████████████████████▎   | 798 kB 5.4 MB/s eta 0:00:01\r",
      "\u001b[K     |████████████████████████████▋   | 808 kB 5.4 MB/s eta 0:00:01\r",
      "\u001b[K     |█████████████████████████████   | 819 kB 5.4 MB/s eta 0:00:01\r",
      "\u001b[K     |█████████████████████████████▍  | 829 kB 5.4 MB/s eta 0:00:01\r",
      "\u001b[K     |█████████████████████████████▊  | 839 kB 5.4 MB/s eta 0:00:01\r",
      "\u001b[K     |██████████████████████████████  | 849 kB 5.4 MB/s eta 0:00:01\r",
      "\u001b[K     |██████████████████████████████▍ | 860 kB 5.4 MB/s eta 0:00:01\r",
      "\u001b[K     |██████████████████████████████▉ | 870 kB 5.4 MB/s eta 0:00:01\r",
      "\u001b[K     |███████████████████████████████▏| 880 kB 5.4 MB/s eta 0:00:01\r",
      "\u001b[K     |███████████████████████████████▌| 890 kB 5.4 MB/s eta 0:00:01\r",
      "\u001b[K     |███████████████████████████████▉| 901 kB 5.4 MB/s eta 0:00:01\r",
      "\u001b[K     |████████████████████████████████| 904 kB 5.4 MB/s \n",
      "\u001b[?25hRequirement already satisfied: urllib3 in /usr/local/lib/python3.7/dist-packages (from selenium) (1.24.3)\n",
      "Installing collected packages: selenium\n",
      "Successfully installed selenium-3.141.0\n",
      "Get:1 http://security.ubuntu.com/ubuntu bionic-security InRelease [88.7 kB]\n",
      "Get:2 https://cloud.r-project.org/bin/linux/ubuntu bionic-cran40/ InRelease [3,626 B]\n",
      "Ign:3 https://developer.download.nvidia.com/compute/cuda/repos/ubuntu1804/x86_64  InRelease\n",
      "Ign:4 https://developer.download.nvidia.com/compute/machine-learning/repos/ubuntu1804/x86_64  InRelease\n",
      "Get:5 http://ppa.launchpad.net/c2d4u.team/c2d4u4.0+/ubuntu bionic InRelease [15.9 kB]\n",
      "Hit:6 https://developer.download.nvidia.com/compute/cuda/repos/ubuntu1804/x86_64  Release\n",
      "Hit:7 https://developer.download.nvidia.com/compute/machine-learning/repos/ubuntu1804/x86_64  Release\n",
      "Hit:8 http://archive.ubuntu.com/ubuntu bionic InRelease\n",
      "Get:9 http://archive.ubuntu.com/ubuntu bionic-updates InRelease [88.7 kB]\n",
      "Get:10 https://cloud.r-project.org/bin/linux/ubuntu bionic-cran40/ Packages [67.4 kB]\n",
      "Hit:11 http://ppa.launchpad.net/cran/libgit2/ubuntu bionic InRelease\n",
      "Get:12 http://security.ubuntu.com/ubuntu bionic-security/universe amd64 Packages [1,428 kB]\n",
      "Hit:13 http://ppa.launchpad.net/deadsnakes/ppa/ubuntu bionic InRelease\n",
      "Get:14 http://archive.ubuntu.com/ubuntu bionic-backports InRelease [74.6 kB]\n",
      "Get:15 http://security.ubuntu.com/ubuntu bionic-security/main amd64 Packages [2,326 kB]\n",
      "Hit:17 http://ppa.launchpad.net/graphics-drivers/ppa/ubuntu bionic InRelease\n",
      "Get:19 http://ppa.launchpad.net/c2d4u.team/c2d4u4.0+/ubuntu bionic/main Sources [1,802 kB]\n",
      "Get:20 http://archive.ubuntu.com/ubuntu bionic-updates/universe amd64 Packages [2,202 kB]\n",
      "Get:21 http://archive.ubuntu.com/ubuntu bionic-updates/main amd64 Packages [2,761 kB]\n",
      "Get:22 http://ppa.launchpad.net/c2d4u.team/c2d4u4.0+/ubuntu bionic/main amd64 Packages [922 kB]\n",
      "Fetched 11.8 MB in 3s (3,614 kB/s)\n",
      "Reading package lists...\n",
      "Reading package lists...\n",
      "Building dependency tree...\n",
      "Reading state information...\n",
      "The following additional packages will be installed:\n",
      "  chromium-browser chromium-browser-l10n chromium-codecs-ffmpeg-extra\n",
      "Suggested packages:\n",
      "  webaccounts-chromium-extension unity-chromium-extension\n",
      "The following NEW packages will be installed:\n",
      "  chromium-browser chromium-browser-l10n chromium-chromedriver\n",
      "  chromium-codecs-ffmpeg-extra\n",
      "0 upgraded, 4 newly installed, 0 to remove and 56 not upgraded.\n",
      "Need to get 91.8 MB of archives.\n",
      "After this operation, 315 MB of additional disk space will be used.\n",
      "Get:1 http://archive.ubuntu.com/ubuntu bionic-updates/universe amd64 chromium-codecs-ffmpeg-extra amd64 92.0.4515.159-0ubuntu0.18.04.1 [1,124 kB]\n",
      "^C\n",
      "cp: cannot stat '/usr/lib/chromium-browser/chromedriver': No such file or directory\n"
     ]
    }
   ],
   "source": [
    "# Use this code if using Colab to run Selenium\n",
    "\n",
    "# Make sure to go to Runtime -> Change runtime and set GPU as hardware accelerator\n",
    "\n",
    "# !kill -9 -1 # Use this line to delete this VM and start a new one. \n",
    "# The above line deletes all files and folders from the current VM and allocates a new one.\n",
    "\n",
    "import pandas as pd\n",
    "\n",
    "#Selenium is an open-source tool that automates web browsers.\n",
    "!pip install selenium\n",
    "!apt-get -q update   #Used to handle installation and removal of softwares and libraries\n",
    "!apt install -yq chromium-chromedriver #ChromeDriver is a separate executable that Selenium WebDriver uses to control Chrome.\n",
    "!cp /usr/lib/chromium-browser/chromedriver /usr/bin\n",
    "\n",
    "import sys\n",
    "sys.path.insert(0,'/usr/lib/chromium-browser/chromedriver')\n",
    "from selenium import webdriver \n",
    "#WebDriver is a browser automation framework that works with open source APIs. \n",
    "#The framework operates by accepting commands, sending those commands to a browser, and interacting with applications.\n",
    "chrome_options = webdriver.ChromeOptions()\n",
    "chrome_options.add_argument('--headless')\n",
    "chrome_options.add_argument('--no-sandbox')\n",
    "chrome_options.add_argument('--disable-dev-shm-usage')"
   ]
  },
  {
   "cell_type": "code",
   "execution_count": null,
   "metadata": {
    "colab": {
     "base_uri": "https://localhost:8080/",
     "height": 421
    },
    "id": "1_VTLx1rMHBD",
    "outputId": "3a071b6f-6932-4dc4-a1bd-085703e67eb9"
   },
   "outputs": [
    {
     "ename": "WebDriverException",
     "evalue": "ignored",
     "output_type": "error",
     "traceback": [
      "\u001b[0;31m---------------------------------------------------------------------------\u001b[0m",
      "\u001b[0;31mFileNotFoundError\u001b[0m                         Traceback (most recent call last)",
      "\u001b[0;32m/usr/local/lib/python3.7/dist-packages/selenium/webdriver/common/service.py\u001b[0m in \u001b[0;36mstart\u001b[0;34m(self)\u001b[0m\n\u001b[1;32m     75\u001b[0m                                             \u001b[0mstderr\u001b[0m\u001b[0;34m=\u001b[0m\u001b[0mself\u001b[0m\u001b[0;34m.\u001b[0m\u001b[0mlog_file\u001b[0m\u001b[0;34m,\u001b[0m\u001b[0;34m\u001b[0m\u001b[0;34m\u001b[0m\u001b[0m\n\u001b[0;32m---> 76\u001b[0;31m                                             stdin=PIPE)\n\u001b[0m\u001b[1;32m     77\u001b[0m         \u001b[0;32mexcept\u001b[0m \u001b[0mTypeError\u001b[0m\u001b[0;34m:\u001b[0m\u001b[0;34m\u001b[0m\u001b[0;34m\u001b[0m\u001b[0m\n",
      "\u001b[0;32m/usr/lib/python3.7/subprocess.py\u001b[0m in \u001b[0;36m__init__\u001b[0;34m(self, args, bufsize, executable, stdin, stdout, stderr, preexec_fn, close_fds, shell, cwd, env, universal_newlines, startupinfo, creationflags, restore_signals, start_new_session, pass_fds, encoding, errors, text)\u001b[0m\n\u001b[1;32m    799\u001b[0m                                 \u001b[0merrread\u001b[0m\u001b[0;34m,\u001b[0m \u001b[0merrwrite\u001b[0m\u001b[0;34m,\u001b[0m\u001b[0;34m\u001b[0m\u001b[0;34m\u001b[0m\u001b[0m\n\u001b[0;32m--> 800\u001b[0;31m                                 restore_signals, start_new_session)\n\u001b[0m\u001b[1;32m    801\u001b[0m         \u001b[0;32mexcept\u001b[0m\u001b[0;34m:\u001b[0m\u001b[0;34m\u001b[0m\u001b[0;34m\u001b[0m\u001b[0m\n",
      "\u001b[0;32m/usr/lib/python3.7/subprocess.py\u001b[0m in \u001b[0;36m_execute_child\u001b[0;34m(self, args, executable, preexec_fn, close_fds, pass_fds, cwd, env, startupinfo, creationflags, shell, p2cread, p2cwrite, c2pread, c2pwrite, errread, errwrite, restore_signals, start_new_session)\u001b[0m\n\u001b[1;32m   1550\u001b[0m                             \u001b[0merr_msg\u001b[0m \u001b[0;34m+=\u001b[0m \u001b[0;34m': '\u001b[0m \u001b[0;34m+\u001b[0m \u001b[0mrepr\u001b[0m\u001b[0;34m(\u001b[0m\u001b[0merr_filename\u001b[0m\u001b[0;34m)\u001b[0m\u001b[0;34m\u001b[0m\u001b[0;34m\u001b[0m\u001b[0m\n\u001b[0;32m-> 1551\u001b[0;31m                     \u001b[0;32mraise\u001b[0m \u001b[0mchild_exception_type\u001b[0m\u001b[0;34m(\u001b[0m\u001b[0merrno_num\u001b[0m\u001b[0;34m,\u001b[0m \u001b[0merr_msg\u001b[0m\u001b[0;34m,\u001b[0m \u001b[0merr_filename\u001b[0m\u001b[0;34m)\u001b[0m\u001b[0;34m\u001b[0m\u001b[0;34m\u001b[0m\u001b[0m\n\u001b[0m\u001b[1;32m   1552\u001b[0m                 \u001b[0;32mraise\u001b[0m \u001b[0mchild_exception_type\u001b[0m\u001b[0;34m(\u001b[0m\u001b[0merr_msg\u001b[0m\u001b[0;34m)\u001b[0m\u001b[0;34m\u001b[0m\u001b[0;34m\u001b[0m\u001b[0m\n",
      "\u001b[0;31mFileNotFoundError\u001b[0m: [Errno 2] No such file or directory: 'chromedriver': 'chromedriver'",
      "\nDuring handling of the above exception, another exception occurred:\n",
      "\u001b[0;31mWebDriverException\u001b[0m                        Traceback (most recent call last)",
      "\u001b[0;32m<ipython-input-8-dc0f40051e20>\u001b[0m in \u001b[0;36m<module>\u001b[0;34m()\u001b[0m\n\u001b[0;32m----> 1\u001b[0;31m \u001b[0mdriver\u001b[0m \u001b[0;34m=\u001b[0m \u001b[0mwebdriver\u001b[0m\u001b[0;34m.\u001b[0m\u001b[0mChrome\u001b[0m\u001b[0;34m(\u001b[0m\u001b[0;34m'chromedriver'\u001b[0m\u001b[0;34m,\u001b[0m\u001b[0moptions\u001b[0m\u001b[0;34m=\u001b[0m\u001b[0mchrome_options\u001b[0m\u001b[0;34m)\u001b[0m\u001b[0;34m\u001b[0m\u001b[0;34m\u001b[0m\u001b[0m\n\u001b[0m\u001b[1;32m      2\u001b[0m \u001b[0;34m\u001b[0m\u001b[0m\n\u001b[1;32m      3\u001b[0m \u001b[0mwebpage_base\u001b[0m \u001b[0;34m=\u001b[0m \u001b[0;34m'https://forums.edmunds.com/discussion/2864/general/x/entry-level-luxury-performance-sedans/p'\u001b[0m\u001b[0;34m\u001b[0m\u001b[0;34m\u001b[0m\u001b[0m\n\u001b[1;32m      4\u001b[0m \u001b[0;34m\u001b[0m\u001b[0m\n\u001b[1;32m      5\u001b[0m \u001b[0mcomments_final\u001b[0m \u001b[0;34m=\u001b[0m \u001b[0mpd\u001b[0m\u001b[0;34m.\u001b[0m\u001b[0mDataFrame\u001b[0m\u001b[0;34m(\u001b[0m\u001b[0mcolumns\u001b[0m \u001b[0;34m=\u001b[0m \u001b[0;34m[\u001b[0m\u001b[0;34m'Date'\u001b[0m\u001b[0;34m,\u001b[0m\u001b[0;34m'user_id'\u001b[0m\u001b[0;34m,\u001b[0m\u001b[0;34m'comments'\u001b[0m\u001b[0;34m]\u001b[0m\u001b[0;34m)\u001b[0m\u001b[0;34m\u001b[0m\u001b[0;34m\u001b[0m\u001b[0m\n",
      "\u001b[0;32m/usr/local/lib/python3.7/dist-packages/selenium/webdriver/chrome/webdriver.py\u001b[0m in \u001b[0;36m__init__\u001b[0;34m(self, executable_path, port, options, service_args, desired_capabilities, service_log_path, chrome_options, keep_alive)\u001b[0m\n\u001b[1;32m     71\u001b[0m             \u001b[0mservice_args\u001b[0m\u001b[0;34m=\u001b[0m\u001b[0mservice_args\u001b[0m\u001b[0;34m,\u001b[0m\u001b[0;34m\u001b[0m\u001b[0;34m\u001b[0m\u001b[0m\n\u001b[1;32m     72\u001b[0m             log_path=service_log_path)\n\u001b[0;32m---> 73\u001b[0;31m         \u001b[0mself\u001b[0m\u001b[0;34m.\u001b[0m\u001b[0mservice\u001b[0m\u001b[0;34m.\u001b[0m\u001b[0mstart\u001b[0m\u001b[0;34m(\u001b[0m\u001b[0;34m)\u001b[0m\u001b[0;34m\u001b[0m\u001b[0;34m\u001b[0m\u001b[0m\n\u001b[0m\u001b[1;32m     74\u001b[0m \u001b[0;34m\u001b[0m\u001b[0m\n\u001b[1;32m     75\u001b[0m         \u001b[0;32mtry\u001b[0m\u001b[0;34m:\u001b[0m\u001b[0;34m\u001b[0m\u001b[0;34m\u001b[0m\u001b[0m\n",
      "\u001b[0;32m/usr/local/lib/python3.7/dist-packages/selenium/webdriver/common/service.py\u001b[0m in \u001b[0;36mstart\u001b[0;34m(self)\u001b[0m\n\u001b[1;32m     81\u001b[0m                 raise WebDriverException(\n\u001b[1;32m     82\u001b[0m                     \"'%s' executable needs to be in PATH. %s\" % (\n\u001b[0;32m---> 83\u001b[0;31m                         os.path.basename(self.path), self.start_error_message)\n\u001b[0m\u001b[1;32m     84\u001b[0m                 )\n\u001b[1;32m     85\u001b[0m             \u001b[0;32melif\u001b[0m \u001b[0merr\u001b[0m\u001b[0;34m.\u001b[0m\u001b[0merrno\u001b[0m \u001b[0;34m==\u001b[0m \u001b[0merrno\u001b[0m\u001b[0;34m.\u001b[0m\u001b[0mEACCES\u001b[0m\u001b[0;34m:\u001b[0m\u001b[0;34m\u001b[0m\u001b[0;34m\u001b[0m\u001b[0m\n",
      "\u001b[0;31mWebDriverException\u001b[0m: Message: 'chromedriver' executable needs to be in PATH. Please see https://sites.google.com/a/chromium.org/chromedriver/home\n"
     ]
    }
   ],
   "source": [
    "driver = webdriver.Chrome('chromedriver',options=chrome_options)\n",
    "\n",
    "webpage_base = 'https://forums.edmunds.com/discussion/2864/general/x/entry-level-luxury-performance-sedans/p'\n",
    "\n",
    "comments_final = pd.DataFrame(columns = ['Date','user_id','comments']) \n",
    "\n",
    "for i in range(200):\n",
    "  webpage = webpage_base+str(i+1)\n",
    "  driver.get(webpage)\n",
    "  \n",
    "  comments = pd.DataFrame(columns = ['Date','user_id','comments']) \n",
    "  ids = driver.find_elements_by_xpath(\"//*[contains(@id,'Comment_')]\")\n",
    "  comment_ids = []\n",
    "\n",
    "  for i in ids:\n",
    "      comment_ids.append(i.get_attribute('id'))\n",
    "\n",
    "\n",
    "  for x in comment_ids:\n",
    "      #Extract dates from for each user on a page\n",
    "      user_date = driver.find_elements_by_xpath('//*[@id=\"' + x +'\"]/div/div[2]/div[2]/span[1]/a/time')[0]\n",
    "      date = user_date.get_attribute('title')\n",
    "\n",
    "      #Extract user ids from each user on a page\n",
    "      userid_element = driver.find_elements_by_xpath('//*[@id=\"' + x +'\"]/div/div[2]/div[1]/span[1]/a[2]')[0]\n",
    "      userid = userid_element.text\n",
    "\n",
    "      #Extract Message for each user on a page\n",
    "      user_message = driver.find_elements_by_xpath('//*[@id=\"' + x +'\"]/div/div[3]/div/div[1]')[0]\n",
    "      comment = user_message.text\n",
    "                                    \n",
    "      #Adding date, userid and comment for each user in a dataframe    \n",
    "      comments.loc[len(comments)] = [date,userid,comment]\n",
    "  comments_final = comments_final.append(comments)"
   ]
  },
  {
   "cell_type": "code",
   "execution_count": null,
   "metadata": {
    "id": "Ee43P73yNq8L"
   },
   "outputs": [],
   "source": [
    "comments_final.head()"
   ]
  },
  {
   "cell_type": "markdown",
   "metadata": {
    "id": "NJ6ymBYBtIiq"
   },
   "source": [
    "Backing up raw dataset to local computer"
   ]
  },
  {
   "cell_type": "code",
   "execution_count": null,
   "metadata": {
    "id": "0dYD8LOJ0t9i"
   },
   "outputs": [],
   "source": [
    "comments_final.to_csv(\"AUD Assignment 1 - Raw Data.csv\")\n",
    "!ls\n",
    "from google.colab import files\n",
    "files.download(\"AUD Assignment 1 - Raw Data.csv\")"
   ]
  },
  {
   "cell_type": "markdown",
   "metadata": {
    "id": "ytOio4mL19Fg"
   },
   "source": [
    "## **Task A: Testing Zipf's Law**"
   ]
  },
  {
   "cell_type": "markdown",
   "metadata": {
    "id": "JFMvRSid5mLE"
   },
   "source": [
    "### Initialization - to access file from Google Drive"
   ]
  },
  {
   "cell_type": "code",
   "execution_count": null,
   "metadata": {
    "id": "wNFq6QOx3cqm"
   },
   "outputs": [],
   "source": [
    "!pip install -U -q PyDrive\n",
    "from pydrive.auth import GoogleAuth\n",
    "from pydrive.drive import GoogleDrive\n",
    "from google.colab import auth\n",
    "from oauth2client.client import GoogleCredentials\n",
    "\n",
    "auth.authenticate_user()\n",
    "gauth = GoogleAuth()\n",
    "gauth.credentials = GoogleCredentials.get_application_default()\n",
    "drive = GoogleDrive(gauth)"
   ]
  },
  {
   "cell_type": "code",
   "execution_count": null,
   "metadata": {
    "id": "daSvidh04O3-"
   },
   "outputs": [],
   "source": [
    "#https://drive.google.com/file/d/1kF1Q8MEyvFmgBN117OLnocT3-t-yIC6d/view?usp=sharing - location of the raw data saved\n",
    "fileDownloaded = drive.CreateFile({'id':'1kF1Q8MEyvFmgBN117OLnocT3-t-yIC6d'})\n",
    "fileDownloaded.GetContentFile('raw_data.csv')"
   ]
  },
  {
   "cell_type": "code",
   "execution_count": null,
   "metadata": {
    "colab": {
     "base_uri": "https://localhost:8080/",
     "height": 203
    },
    "id": "CnNBdeG12a4_",
    "outputId": "10d28674-359f-4231-feaf-c9478c20d41e"
   },
   "outputs": [
    {
     "data": {
      "text/html": [
       "<div>\n",
       "<style scoped>\n",
       "    .dataframe tbody tr th:only-of-type {\n",
       "        vertical-align: middle;\n",
       "    }\n",
       "\n",
       "    .dataframe tbody tr th {\n",
       "        vertical-align: top;\n",
       "    }\n",
       "\n",
       "    .dataframe thead th {\n",
       "        text-align: right;\n",
       "    }\n",
       "</style>\n",
       "<table border=\"1\" class=\"dataframe\">\n",
       "  <thead>\n",
       "    <tr style=\"text-align: right;\">\n",
       "      <th></th>\n",
       "      <th>Date</th>\n",
       "      <th>user_id</th>\n",
       "      <th>comments</th>\n",
       "    </tr>\n",
       "  </thead>\n",
       "  <tbody>\n",
       "    <tr>\n",
       "      <th>0</th>\n",
       "      <td>March 24, 2002 10:54PM</td>\n",
       "      <td>merc1</td>\n",
       "      <td>I personally think that with a few tweaks the ...</td>\n",
       "    </tr>\n",
       "    <tr>\n",
       "      <th>1</th>\n",
       "      <td>March 25, 2002 12:06AM</td>\n",
       "      <td>fredvh</td>\n",
       "      <td>I am debating a new purchase and these two are...</td>\n",
       "    </tr>\n",
       "    <tr>\n",
       "      <th>2</th>\n",
       "      <td>March 25, 2002 10:02AM</td>\n",
       "      <td>blueguydotcom</td>\n",
       "      <td>Great handling, RWD, excellent engine and the ...</td>\n",
       "    </tr>\n",
       "    <tr>\n",
       "      <th>3</th>\n",
       "      <td>March 25, 2002 4:04PM</td>\n",
       "      <td>hungrywhale</td>\n",
       "      <td>And no manual tranny. That may not matter to y...</td>\n",
       "    </tr>\n",
       "    <tr>\n",
       "      <th>4</th>\n",
       "      <td>March 25, 2002 5:44PM</td>\n",
       "      <td>riez</td>\n",
       "      <td>One beauty of BMW 3 Series is that there are s...</td>\n",
       "    </tr>\n",
       "  </tbody>\n",
       "</table>\n",
       "</div>"
      ],
      "text/plain": [
       "                     Date  ...                                           comments\n",
       "0  March 24, 2002 10:54PM  ...  I personally think that with a few tweaks the ...\n",
       "1  March 25, 2002 12:06AM  ...  I am debating a new purchase and these two are...\n",
       "2  March 25, 2002 10:02AM  ...  Great handling, RWD, excellent engine and the ...\n",
       "3   March 25, 2002 4:04PM  ...  And no manual tranny. That may not matter to y...\n",
       "4   March 25, 2002 5:44PM  ...  One beauty of BMW 3 Series is that there are s...\n",
       "\n",
       "[5 rows x 3 columns]"
      ]
     },
     "execution_count": 12,
     "metadata": {},
     "output_type": "execute_result"
    }
   ],
   "source": [
    "import pandas as pd\n",
    "raw_data = pd.read_csv('raw_data.csv') #read data from csv\n",
    "raw_data = raw_data[[\"Date\",\"user_id\",\"comments\"]]\n",
    "raw_data.head()"
   ]
  },
  {
   "cell_type": "markdown",
   "metadata": {
    "id": "cEA1RXAiiJqh"
   },
   "source": [
    "###Word-wise frequency count (stopwords included)"
   ]
  },
  {
   "cell_type": "code",
   "execution_count": null,
   "metadata": {
    "colab": {
     "base_uri": "https://localhost:8080/",
     "height": 379
    },
    "id": "irCy16fc6b3a",
    "outputId": "ef6e20f8-e5e7-485f-d22c-74f61c64f11a"
   },
   "outputs": [
    {
     "name": "stdout",
     "output_type": "stream",
     "text": [
      "[nltk_data] Downloading package punkt to /root/nltk_data...\n",
      "[nltk_data]   Unzipping tokenizers/punkt.zip.\n",
      "[nltk_data] Downloading package stopwords to /root/nltk_data...\n",
      "[nltk_data]   Unzipping corpora/stopwords.zip.\n"
     ]
    },
    {
     "data": {
      "text/plain": [
       "Text(0, 0.5, 'log(Frequency)')"
      ]
     },
     "execution_count": 13,
     "metadata": {},
     "output_type": "execute_result"
    },
    {
     "data": {
      "image/png": "[encoded data removed]",
      "text/plain": [
       "<Figure size 432x288 with 1 Axes>"
      ]
     },
     "metadata": {
      "needs_background": "light"
     },
     "output_type": "display_data"
    }
   ],
   "source": [
    "import nltk as nltk\n",
    "from nltk import word_tokenize\n",
    "from nltk import TreebankWordTokenizer\n",
    "from nltk.corpus import reuters\n",
    "from nltk.corpus import wordnet\n",
    "import math\n",
    "import matplotlib.pyplot as plt\n",
    "import numpy as np\n",
    "from sklearn.linear_model import LinearRegression\n",
    "nltk.download('punkt')\n",
    "nltk.download('stopwords')\n",
    "\n",
    "tokenizer = TreebankWordTokenizer()\n",
    "\n",
    "df = raw_data\n",
    "\n",
    "tokenized = []\n",
    "\n",
    "comments = []\n",
    "for i in df['comments']: #put comments in list.\n",
    "    comments.append(i)\n",
    "\n",
    "import re\n",
    "import string\n",
    "\n",
    "table = str.maketrans('','', string.punctuation) #remove punctuation\n",
    "\n",
    "def tokenized(x):\n",
    "    return word_tokenize(x) #function that toknize words in df\n",
    "\n",
    "def no_punc(x):\n",
    "    return x.translate(table) #function that removes punctuation in df\n",
    "\n",
    "def lower(x):\n",
    "    return x.lower() #function that turns all to lower case in df\n",
    "\n",
    "df['comments'] = df['comments'].apply(str).map(lower).map(no_punc).apply(str) #make comments into lower case tokenized words without punctuations\n",
    "\n",
    "df['comments_token'] = df['comments'].map(tokenized)\n",
    "df_X = df.copy()\n",
    "\n",
    "word_set = [] #Putting all the words into a list\n",
    "\n",
    "for i in range(10000):\n",
    "    for a in range(len(df['comments_token'][i])):\n",
    "        word_set.append(df['comments_token'][i][a])\n",
    "\n",
    "df_word = pd.DataFrame(columns = ['word'])\n",
    "import numpy as np\n",
    "\n",
    "df_word['word'] = np.array(word_set) \n",
    "\n",
    "count = df_word['word'].value_counts() #Get the count for each word\n",
    "\n",
    "def get_count(x):\n",
    "    return count[x]\n",
    "\n",
    "df_word['count'] = df_word['word'].map(get_count)\n",
    "\n",
    "#Add rank column for each word based on frequency\n",
    "df_word_2 = df_word.copy()\n",
    "df_word_2 = df_word_2.drop_duplicates(subset = ['word'])\n",
    "df_word_2['rank'] = df_word_2['count'].rank(ascending = False)\n",
    "\n",
    "count_rank = count[:100]\n",
    "total = 0\n",
    "counter = 0\n",
    "\n",
    "for i in range(99):\n",
    "    k = i + 1\n",
    "    while k < 99:\n",
    "        value = count_rank[i]/count_rank[k]\n",
    "        value2 = (k+1)/(i+1)\n",
    "        total += (value/value2)\n",
    "        k+=1\n",
    "        counter += 1\n",
    "        \n",
    "df_zipf = df_word_2.copy()\n",
    "\n",
    "def get_log(x):\n",
    "    return math.log(x) #copy the data frame to do the df_zipf law in order to avoiding changing stuff in previews df.\n",
    "\n",
    "df_zipf['log_count'] = df_zipf['count'].map(get_log)\n",
    "df_zipf['log_rank'] = df_zipf['rank'].map(get_log)\n",
    "#put log rank and count into the new data frame\n",
    "#plotting, log rank vs. log count with a fitting line.\n",
    "plt.plot(df_zipf['log_rank'], df_zipf['log_count'], 'o', color='green')\n",
    "m, b = np.polyfit(df_zipf['log_rank'], df_zipf['log_count'], 1)\n",
    "plt.plot(df_zipf['log_rank'], m*df_zipf['log_rank']+b, color='red')\n",
    "plt.title('Word Rank vs. Frequency')\n",
    "plt.xlabel('log(Rank)')\n",
    "plt.ylabel('log(Frequency)')"
   ]
  },
  {
   "cell_type": "code",
   "execution_count": null,
   "metadata": {
    "colab": {
     "base_uri": "https://localhost:8080/",
     "height": 312
    },
    "id": "7X7UcEh76laC",
    "outputId": "760e9b85-71fb-4188-84ef-85ac47290e80"
   },
   "outputs": [
    {
     "name": "stdout",
     "output_type": "stream",
     "text": [
      "0.913900970476037is the average of ratio of count i / count k over rank k / rank i\n"
     ]
    },
    {
     "data": {
      "image/png": "[encoded data removed]",
      "text/plain": [
       "<Figure size 432x288 with 1 Axes>"
      ]
     },
     "metadata": {
      "needs_background": "light"
     },
     "output_type": "display_data"
    }
   ],
   "source": [
    "df_100 = df_zipf[df_zipf['rank'] <= 100]\n",
    "df_100 = df_100.sort_values(by = ['rank'])\n",
    "plt.plot(df_100['rank'], df_100['count'], '-', color='blue')\n",
    "plt.title('Rank and Frequency')\n",
    "plt.xlabel(\"Word's Rank\")\n",
    "plt.ylabel('Frequency')\n",
    "\n",
    "print(str(total/counter) + 'is the average of ratio of count i / count k over rank k / rank i') "
   ]
  },
  {
   "cell_type": "markdown",
   "metadata": {
    "id": "cxPvHzORh8dw"
   },
   "source": [
    "Considering the 100 words occurring most often, we observe that there are a few words which are repeated with a very high frequency, such as \"a\", \"and\", \"the\", \"to\", \"i\" (more than 20,000 instances among the 10000 comments scraped). By the time we reach the 100th most common word, it is observed that the frequency drops to only 1288. This supports Zipf's Law"
   ]
  },
  {
   "cell_type": "markdown",
   "metadata": {
    "id": "6xdKLOGbocRz"
   },
   "source": [
    "## **Task B: Top 10 Brands from Frequency Counts (after excluding stopwords)**"
   ]
  },
  {
   "cell_type": "code",
   "execution_count": null,
   "metadata": {
    "colab": {
     "base_uri": "https://localhost:8080/"
    },
    "id": "Lm_2xB8NooCT",
    "outputId": "68ffbded-2a2f-471b-bec8-7aca3aa7aeab"
   },
   "outputs": [
    {
     "data": {
      "text/plain": [
       "['personally',\n",
       " 'think',\n",
       " 'tweaks',\n",
       " 'c320',\n",
       " 'could',\n",
       " 'also',\n",
       " 'sit',\n",
       " 'top',\n",
       " 'group',\n",
       " 'still']"
      ]
     },
     "execution_count": 15,
     "metadata": {},
     "output_type": "execute_result"
    }
   ],
   "source": [
    "# Remove stopwords\n",
    "\n",
    "from nltk.corpus import stopwords\n",
    "\n",
    "df_word_3=[]\n",
    "\n",
    "stop_words=set(stopwords.words(\"english\"))\n",
    "for w in df_word['word']:\n",
    "    if w not in stop_words:\n",
    "        df_word_3.append(w)\n",
    "df_word_3[:10]"
   ]
  },
  {
   "cell_type": "code",
   "execution_count": null,
   "metadata": {
    "id": "1m-I5lvwY_8Y"
   },
   "outputs": [],
   "source": [
    "# df_word_filtered contains all the words except the stopwords\n",
    "\n",
    "df_word_filtered = pd.DataFrame(columns = ['word'])\n",
    "df_word_filtered['word'] = np.array(df_word_3)\n",
    "\n",
    "fileDownloaded1 = drive.CreateFile({'id':'1ONH_n17lop9VrKcFnzmqginB4_DdiONa'})\n",
    "fileDownloaded1.GetContentFile('car_models_and_brands.csv')\n",
    "\n",
    "df_mapping = pd.read_csv('car_models_and_brands.csv')\n",
    "df_mapping.head()"
   ]
  },
  {
   "cell_type": "code",
   "execution_count": null,
   "metadata": {
    "id": "E2k2-do2ZSaS"
   },
   "outputs": [],
   "source": [
    "\n",
    "# Replace frequently occurring car models with brands\n",
    "# Replace all the car model with card brands from df_word_filtered and assign the transformed list to df_word_filtered1 \n",
    "\n",
    "\n",
    "#Create the dictionary for mapping\n",
    "\n",
    "df_mapping1 = df_mapping.set_index(['Model'])[\"Brand\"].to_dict()\n",
    "\n",
    "import re\n",
    "\n",
    "def multiwordReplace(text, wordDict):\n",
    "    \n",
    "    for key in wordDict:\n",
    "        text = text.replace(key, wordDict[key])\n",
    "    return text\n",
    "\n",
    "\n",
    "# the dictionary has target_word : replacement_word pairs\n",
    "wordDict = df_mapping1\n",
    "\n",
    "# call the function and get the changed text\n",
    "str2 = multiwordReplace(df_word_filtered['word'], wordDict)\n",
    "\n",
    "df_word_filtered1 = pd.DataFrame(columns = ['word'])\n",
    "df_word_filtered1['word'] = np.array(str2)"
   ]
  },
  {
   "cell_type": "code",
   "execution_count": null,
   "metadata": {
    "colab": {
     "base_uri": "https://localhost:8080/"
    },
    "id": "DifvrWWrZVUh",
    "outputId": "ecc5943b-4681-422d-b707-b4f6581b0dea"
   },
   "outputs": [
    {
     "data": {
      "text/plain": [
       "29980"
      ]
     },
     "execution_count": 20,
     "metadata": {},
     "output_type": "execute_result"
    }
   ],
   "source": [
    "# Calculate frequency count from df_word_filtered1\n",
    "\n",
    "count = df_word_filtered1['word'].value_counts()\n",
    "def get_count(x):\n",
    "    return count[x]\n",
    "df_word_filtered1 = df_word_filtered1.drop_duplicates(subset=\"word\")\n",
    "df_word_filtered1['count'] = df_word_filtered1['word'].map(get_count)\n",
    "# df_word_filtered1 = df_word_filtered1.drop_duplicates()\n",
    "len(df_word_filtered1)"
   ]
  },
  {
   "cell_type": "code",
   "execution_count": null,
   "metadata": {
    "id": "CCfJ2c_8gUvn"
   },
   "outputs": [],
   "source": [
    "#Checkpoint - Saving the data with frequency counts after removing stopwords\n",
    "df_word_filtered1.to_csv(\"Word Frequencies - After removing stopwords.csv\")\n",
    "!ls\n",
    "from google.colab import files\n",
    "files.download(\"Word Frequencies - After removing stopwords.csv\")"
   ]
  },
  {
   "cell_type": "code",
   "execution_count": null,
   "metadata": {
    "id": "5S9-Qrq_ZYKs"
   },
   "outputs": [],
   "source": [
    "# Filter the data by the list of the brands (assigned to df_word_filtered2) and sort to find the top 10 brands \n",
    "\n",
    "list1 = list(df_mapping[\"Brand\"].drop_duplicates())\n",
    "\n",
    "df_word_filtered2 = df_word_filtered1[df_word_filtered1['word'].isin(list1)]\n",
    "df_word_filtered2 = df_word_filtered2.drop_duplicates(subset = ['word']).sort_values(by='count', ascending=False)\n",
    "df_word_filtered2[:10]\n",
    "df_Y = df_word_filtered2.copy()\n",
    "top_ten_brands=df_word_filtered2[:10]"
   ]
  },
  {
   "cell_type": "code",
   "execution_count": null,
   "metadata": {
    "colab": {
     "base_uri": "https://localhost:8080/"
    },
    "id": "I-xwGIS4a5M5",
    "outputId": "22f688d4-1c77-4439-b4cb-d8547227fb20"
   },
   "outputs": [
    {
     "data": {
      "text/plain": [
       "26"
      ]
     },
     "execution_count": 23,
     "metadata": {},
     "output_type": "execute_result"
    }
   ],
   "source": [
    "len(df_word_filtered2)"
   ]
  },
  {
   "cell_type": "code",
   "execution_count": null,
   "metadata": {
    "colab": {
     "base_uri": "https://localhost:8080/",
     "height": 357
    },
    "id": "URRh8I0cAMzj",
    "outputId": "c40ef13f-ca58-4e76-b0b1-d63a0a14e440"
   },
   "outputs": [
    {
     "data": {
      "text/html": [
       "<div>\n",
       "<style scoped>\n",
       "    .dataframe tbody tr th:only-of-type {\n",
       "        vertical-align: middle;\n",
       "    }\n",
       "\n",
       "    .dataframe tbody tr th {\n",
       "        vertical-align: top;\n",
       "    }\n",
       "\n",
       "    .dataframe thead th {\n",
       "        text-align: right;\n",
       "    }\n",
       "</style>\n",
       "<table border=\"1\" class=\"dataframe\">\n",
       "  <thead>\n",
       "    <tr style=\"text-align: right;\">\n",
       "      <th></th>\n",
       "      <th>word</th>\n",
       "      <th>count</th>\n",
       "    </tr>\n",
       "  </thead>\n",
       "  <tbody>\n",
       "    <tr>\n",
       "      <th>104</th>\n",
       "      <td>bmw</td>\n",
       "      <td>6323</td>\n",
       "    </tr>\n",
       "    <tr>\n",
       "      <th>131</th>\n",
       "      <td>acura</td>\n",
       "      <td>4113</td>\n",
       "    </tr>\n",
       "    <tr>\n",
       "      <th>58</th>\n",
       "      <td>audi</td>\n",
       "      <td>1891</td>\n",
       "    </tr>\n",
       "    <tr>\n",
       "      <th>432</th>\n",
       "      <td>honda</td>\n",
       "      <td>1181</td>\n",
       "    </tr>\n",
       "    <tr>\n",
       "      <th>743</th>\n",
       "      <td>infiniti</td>\n",
       "      <td>931</td>\n",
       "    </tr>\n",
       "    <tr>\n",
       "      <th>198</th>\n",
       "      <td>toyota</td>\n",
       "      <td>892</td>\n",
       "    </tr>\n",
       "    <tr>\n",
       "      <th>1276</th>\n",
       "      <td>nissan</td>\n",
       "      <td>706</td>\n",
       "    </tr>\n",
       "    <tr>\n",
       "      <th>1934</th>\n",
       "      <td>volvo</td>\n",
       "      <td>625</td>\n",
       "    </tr>\n",
       "    <tr>\n",
       "      <th>2022</th>\n",
       "      <td>volkswagen</td>\n",
       "      <td>553</td>\n",
       "    </tr>\n",
       "    <tr>\n",
       "      <th>2932</th>\n",
       "      <td>subaru</td>\n",
       "      <td>472</td>\n",
       "    </tr>\n",
       "  </tbody>\n",
       "</table>\n",
       "</div>"
      ],
      "text/plain": [
       "            word  count\n",
       "104          bmw   6323\n",
       "131        acura   4113\n",
       "58          audi   1891\n",
       "432        honda   1181\n",
       "743     infiniti    931\n",
       "198       toyota    892\n",
       "1276      nissan    706\n",
       "1934       volvo    625\n",
       "2022  volkswagen    553\n",
       "2932      subaru    472"
      ]
     },
     "execution_count": 24,
     "metadata": {},
     "output_type": "execute_result"
    }
   ],
   "source": [
    "brands=top_ten_brands['word']\n",
    "\n",
    "top_ten_brands\n"
   ]
  },
  {
   "cell_type": "markdown",
   "metadata": {
    "id": "dAEXAduo690B"
   },
   "source": [
    "## **Task C: Calculation of Lift Ratios for Associations between Top-10 Brands**"
   ]
  },
  {
   "cell_type": "code",
   "execution_count": null,
   "metadata": {
    "id": "2fPbI9BV7SLH"
   },
   "outputs": [],
   "source": [
    "\n",
    "i=0\n",
    "replaced_df= raw_data.copy()\n",
    "used_list=[]\n",
    "lift_dict= {}\n",
    "replaced_count_dict ={}\n",
    "\n",
    "for brand in brands:\n",
    "    for i in range((replaced_df.shape[0])):\n",
    "        if type(replaced_df.loc[i,'comments'])==str: \n",
    "            user_comment=replaced_df.loc[i,'comments'].lower()\n",
    "            if (brand.lower() in user_comment):\n",
    "                if brand not in replaced_count_dict:\n",
    "                    replaced_count_dict[brand] = 1\n",
    "                else:\n",
    "                    replaced_count_dict[brand] += 1\n",
    "\n",
    "replaced_count_df = pd.DataFrame.from_dict(replaced_count_dict, orient='index', columns=['Frequency'])\n",
    "top_ten_brands=replaced_count_df.sort_values(by=['Frequency'], ascending=False).head(10).index.to_list()\n",
    "\n",
    "for name1 in top_ten_brands:\n",
    "    for name2 in top_ten_brands:\n",
    "        #if (name1 != name2) and (name2 not in used_list):\n",
    "        i+=1\n",
    "        lift_dict[i]=[]\n",
    "        lift_dict[i].append(name1)\n",
    "        lift_dict[i].append(name2)\n",
    "    used_list.append(name1)\n",
    "\n",
    "name1=[]\n",
    "name2=[]\n",
    "frequency=[]\n",
    "\n",
    "for pair in lift_dict.values():\n",
    "    name1.append(pair[0])\n",
    "    name2.append(pair[1])\n",
    "    frequency.append(0)\n",
    "    \n",
    "for i in range(len(name1)):\n",
    "    for j in range((replaced_df.shape[0])):\n",
    "        if type(replaced_df.loc[j,'comments']) == str: \n",
    "            user_comment=replaced_df.loc[j,'comments'].lower()\n",
    "        if ((name1[i].lower() in user_comment) and (name2[i].lower() in user_comment)):\n",
    "            num=frequency[i]+1\n",
    "            frequency[i]=num              \n",
    "\n",
    "pair_freq_df= pd.DataFrame(name1, columns = ['Name1'])\n",
    "pair_freq_df[\"Name2\"]=name2\n",
    "pair_freq_df[\"Frequency\"]=frequency\n",
    "\n",
    "\n",
    "\n",
    "# Finding the lift ratio for each pair\n",
    "samples = raw_data.shape[0]\n",
    "lift_ratio_list  = []\n",
    "for i in range((pair_freq_df.shape[0])):\n",
    "    pair_freq = pair_freq_df.loc[i,'Frequency']\n",
    "    brand1 = pair_freq_df.loc[i,'Name1']\n",
    "    brand2 = pair_freq_df.loc[i,'Name2']\n",
    "    #A_freq = top_ten_dict.get(brand1)\n",
    "    A_freq = replaced_count_df.loc[brand1].to_numpy()\n",
    "    #B_freq = top_ten_dict.get(brand2)\n",
    "    B_freq = replaced_count_df.loc[brand2].to_numpy()\n",
    "    lift_ratio = (samples*pair_freq)/(A_freq*B_freq)\n",
    "    lift_ratio_list.append(lift_ratio)\n",
    "    lift_ratio_list[:10]\n",
    "\n",
    "pair_freq_df= pd.DataFrame(name1, columns = ['Brand 1'])\n",
    "pair_freq_df[\"Brand 2\"]=name2\n",
    "pair_freq_df[\"Frequency\"]=frequency \n",
    "pair_freq_df['Lift Ratio']=np.around(lift_ratio_list,4)\n",
    "pair_freq_df.to_csv(\"lift_ratio.csv\")"
   ]
  },
  {
   "cell_type": "code",
   "execution_count": null,
   "metadata": {
    "colab": {
     "base_uri": "https://localhost:8080/",
     "height": 511
    },
    "id": "NF9cvN0CSwJE",
    "outputId": "1abbc0e4-3595-4d62-ca2f-e880fdef05d8"
   },
   "outputs": [
    {
     "data": {
      "text/html": [
       "<div>\n",
       "<style scoped>\n",
       "    .dataframe tbody tr th:only-of-type {\n",
       "        vertical-align: middle;\n",
       "    }\n",
       "\n",
       "    .dataframe tbody tr th {\n",
       "        vertical-align: top;\n",
       "    }\n",
       "\n",
       "    .dataframe thead th {\n",
       "        text-align: right;\n",
       "    }\n",
       "</style>\n",
       "<table border=\"1\" class=\"dataframe\">\n",
       "  <thead>\n",
       "    <tr style=\"text-align: right;\">\n",
       "      <th></th>\n",
       "      <th>Brand 1</th>\n",
       "      <th>Brand 2</th>\n",
       "      <th>Frequency</th>\n",
       "      <th>Lift Ratio</th>\n",
       "    </tr>\n",
       "  </thead>\n",
       "  <tbody>\n",
       "    <tr>\n",
       "      <th>98</th>\n",
       "      <td>volkswagen</td>\n",
       "      <td>subaru</td>\n",
       "      <td>5</td>\n",
       "      <td>13.6986</td>\n",
       "    </tr>\n",
       "    <tr>\n",
       "      <th>89</th>\n",
       "      <td>subaru</td>\n",
       "      <td>volkswagen</td>\n",
       "      <td>5</td>\n",
       "      <td>13.6986</td>\n",
       "    </tr>\n",
       "    <tr>\n",
       "      <th>97</th>\n",
       "      <td>volkswagen</td>\n",
       "      <td>toyota</td>\n",
       "      <td>8</td>\n",
       "      <td>12.5490</td>\n",
       "    </tr>\n",
       "    <tr>\n",
       "      <th>79</th>\n",
       "      <td>toyota</td>\n",
       "      <td>volkswagen</td>\n",
       "      <td>8</td>\n",
       "      <td>12.5490</td>\n",
       "    </tr>\n",
       "    <tr>\n",
       "      <th>96</th>\n",
       "      <td>volkswagen</td>\n",
       "      <td>nissan</td>\n",
       "      <td>9</td>\n",
       "      <td>12.4138</td>\n",
       "    </tr>\n",
       "    <tr>\n",
       "      <th>69</th>\n",
       "      <td>nissan</td>\n",
       "      <td>volkswagen</td>\n",
       "      <td>9</td>\n",
       "      <td>12.4138</td>\n",
       "    </tr>\n",
       "    <tr>\n",
       "      <th>74</th>\n",
       "      <td>toyota</td>\n",
       "      <td>honda</td>\n",
       "      <td>106</td>\n",
       "      <td>10.9391</td>\n",
       "    </tr>\n",
       "    <tr>\n",
       "      <th>47</th>\n",
       "      <td>honda</td>\n",
       "      <td>toyota</td>\n",
       "      <td>106</td>\n",
       "      <td>10.9391</td>\n",
       "    </tr>\n",
       "    <tr>\n",
       "      <th>76</th>\n",
       "      <td>toyota</td>\n",
       "      <td>nissan</td>\n",
       "      <td>73</td>\n",
       "      <td>9.8715</td>\n",
       "    </tr>\n",
       "    <tr>\n",
       "      <th>67</th>\n",
       "      <td>nissan</td>\n",
       "      <td>toyota</td>\n",
       "      <td>73</td>\n",
       "      <td>9.8715</td>\n",
       "    </tr>\n",
       "    <tr>\n",
       "      <th>95</th>\n",
       "      <td>volkswagen</td>\n",
       "      <td>volvo</td>\n",
       "      <td>6</td>\n",
       "      <td>8.1633</td>\n",
       "    </tr>\n",
       "    <tr>\n",
       "      <th>59</th>\n",
       "      <td>volvo</td>\n",
       "      <td>volkswagen</td>\n",
       "      <td>6</td>\n",
       "      <td>8.1633</td>\n",
       "    </tr>\n",
       "    <tr>\n",
       "      <th>64</th>\n",
       "      <td>nissan</td>\n",
       "      <td>honda</td>\n",
       "      <td>81</td>\n",
       "      <td>7.3503</td>\n",
       "    </tr>\n",
       "    <tr>\n",
       "      <th>46</th>\n",
       "      <td>honda</td>\n",
       "      <td>nissan</td>\n",
       "      <td>81</td>\n",
       "      <td>7.3503</td>\n",
       "    </tr>\n",
       "    <tr>\n",
       "      <th>92</th>\n",
       "      <td>volkswagen</td>\n",
       "      <td>audi</td>\n",
       "      <td>11</td>\n",
       "      <td>5.8902</td>\n",
       "    </tr>\n",
       "  </tbody>\n",
       "</table>\n",
       "</div>"
      ],
      "text/plain": [
       "       Brand 1     Brand 2  Frequency  Lift Ratio\n",
       "98  volkswagen      subaru          5     13.6986\n",
       "89      subaru  volkswagen          5     13.6986\n",
       "97  volkswagen      toyota          8     12.5490\n",
       "79      toyota  volkswagen          8     12.5490\n",
       "96  volkswagen      nissan          9     12.4138\n",
       "69      nissan  volkswagen          9     12.4138\n",
       "74      toyota       honda        106     10.9391\n",
       "47       honda      toyota        106     10.9391\n",
       "76      toyota      nissan         73      9.8715\n",
       "67      nissan      toyota         73      9.8715\n",
       "95  volkswagen       volvo          6      8.1633\n",
       "59       volvo  volkswagen          6      8.1633\n",
       "64      nissan       honda         81      7.3503\n",
       "46       honda      nissan         81      7.3503\n",
       "92  volkswagen        audi         11      5.8902"
      ]
     },
     "execution_count": 26,
     "metadata": {},
     "output_type": "execute_result"
    }
   ],
   "source": [
    "#Showing top lift ratios\n",
    "pair_freq_df[pair_freq_df[\"Brand 1\"] != pair_freq_df[\"Brand 2\"]].sort_values(by=\"Lift Ratio\", ascending=False)[:15]"
   ]
  },
  {
   "cell_type": "code",
   "execution_count": null,
   "metadata": {
    "colab": {
     "base_uri": "https://localhost:8080/",
     "height": 84
    },
    "id": "3QL5w7ILMtXQ",
    "outputId": "9128dfc8-642f-4833-a1cf-1c57a7bb3e36"
   },
   "outputs": [
    {
     "name": "stdout",
     "output_type": "stream",
     "text": [
      " adc.json\t\t     raw_data.csv\n",
      " car_models_and_brands.csv   sample_data\n",
      " lift_ratio.csv\t\t    'Word Frequencies - After removing stopwords.csv'\n"
     ]
    },
    {
     "data": {
      "application/javascript": [
       "\n",
       "    async function download(id, filename, size) {\n",
       "      if (!google.colab.kernel.accessAllowed) {\n",
       "        return;\n",
       "      }\n",
       "      const div = document.createElement('div');\n",
       "      const label = document.createElement('label');\n",
       "      label.textContent = `Downloading \"${filename}\": `;\n",
       "      div.appendChild(label);\n",
       "      const progress = document.createElement('progress');\n",
       "      progress.max = size;\n",
       "      div.appendChild(progress);\n",
       "      document.body.appendChild(div);\n",
       "\n",
       "      const buffers = [];\n",
       "      let downloaded = 0;\n",
       "\n",
       "      const channel = await google.colab.kernel.comms.open(id);\n",
       "      // Send a message to notify the kernel that we're ready.\n",
       "      channel.send({})\n",
       "\n",
       "      for await (const message of channel.messages) {\n",
       "        // Send a message to notify the kernel that we're ready.\n",
       "        channel.send({})\n",
       "        if (message.buffers) {\n",
       "          for (const buffer of message.buffers) {\n",
       "            buffers.push(buffer);\n",
       "            downloaded += buffer.byteLength;\n",
       "            progress.value = downloaded;\n",
       "          }\n",
       "        }\n",
       "      }\n",
       "      const blob = new Blob(buffers, {type: 'application/binary'});\n",
       "      const a = document.createElement('a');\n",
       "      a.href = window.URL.createObjectURL(blob);\n",
       "      a.download = filename;\n",
       "      div.appendChild(a);\n",
       "      a.click();\n",
       "      div.remove();\n",
       "    }\n",
       "  "
      ],
      "text/plain": [
       "<IPython.core.display.Javascript object>"
      ]
     },
     "metadata": {},
     "output_type": "display_data"
    },
    {
     "data": {
      "application/javascript": [
       "download(\"download_323cd445-e0b7-4ac3-b010-316ff9daa1a8\", \"lift_ratio.csv\", 2715)"
      ],
      "text/plain": [
       "<IPython.core.display.Javascript object>"
      ]
     },
     "metadata": {},
     "output_type": "display_data"
    }
   ],
   "source": [
    "!ls\n",
    "from google.colab import files\n",
    "files.download(\"lift_ratio.csv\")"
   ]
  },
  {
   "cell_type": "markdown",
   "metadata": {
    "id": "tQ71FPT8OU4R"
   },
   "source": [
    "## **Task D: Showing Brands on Multi-dimensional Scaling Map**"
   ]
  },
  {
   "cell_type": "code",
   "execution_count": null,
   "metadata": {
    "colab": {
     "base_uri": "https://localhost:8080/",
     "height": 405
    },
    "id": "9QxjVwM1OYWs",
    "outputId": "4ce89f9c-bc01-4612-cc0e-327005d45280"
   },
   "outputs": [
    {
     "name": "stdout",
     "output_type": "stream",
     "text": [
      "Lift Calculations for brands: \n"
     ]
    },
    {
     "data": {
      "text/html": [
       "<div>\n",
       "<style scoped>\n",
       "    .dataframe tbody tr th:only-of-type {\n",
       "        vertical-align: middle;\n",
       "    }\n",
       "\n",
       "    .dataframe tbody tr th {\n",
       "        vertical-align: top;\n",
       "    }\n",
       "\n",
       "    .dataframe thead th {\n",
       "        text-align: right;\n",
       "    }\n",
       "</style>\n",
       "<table border=\"1\" class=\"dataframe\">\n",
       "  <thead>\n",
       "    <tr style=\"text-align: right;\">\n",
       "      <th>Brand 2</th>\n",
       "      <th>acura</th>\n",
       "      <th>audi</th>\n",
       "      <th>bmw</th>\n",
       "      <th>honda</th>\n",
       "      <th>infiniti</th>\n",
       "      <th>nissan</th>\n",
       "      <th>subaru</th>\n",
       "      <th>toyota</th>\n",
       "      <th>volkswagen</th>\n",
       "      <th>volvo</th>\n",
       "    </tr>\n",
       "    <tr>\n",
       "      <th>Brand 1</th>\n",
       "      <th></th>\n",
       "      <th></th>\n",
       "      <th></th>\n",
       "      <th></th>\n",
       "      <th></th>\n",
       "      <th></th>\n",
       "      <th></th>\n",
       "      <th></th>\n",
       "      <th></th>\n",
       "      <th></th>\n",
       "    </tr>\n",
       "  </thead>\n",
       "  <tbody>\n",
       "    <tr>\n",
       "      <th>acura</th>\n",
       "      <td>NaN</td>\n",
       "      <td>3.2142</td>\n",
       "      <td>1.8760</td>\n",
       "      <td>4.2683</td>\n",
       "      <td>4.8187</td>\n",
       "      <td>3.1268</td>\n",
       "      <td>3.4990</td>\n",
       "      <td>2.2037</td>\n",
       "      <td>2.5543</td>\n",
       "      <td>3.2146</td>\n",
       "    </tr>\n",
       "    <tr>\n",
       "      <th>audi</th>\n",
       "      <td>3.2142</td>\n",
       "      <td>NaN</td>\n",
       "      <td>2.2236</td>\n",
       "      <td>1.6205</td>\n",
       "      <td>3.6547</td>\n",
       "      <td>1.5233</td>\n",
       "      <td>3.3009</td>\n",
       "      <td>1.9424</td>\n",
       "      <td>5.8902</td>\n",
       "      <td>4.3257</td>\n",
       "    </tr>\n",
       "    <tr>\n",
       "      <th>bmw</th>\n",
       "      <td>1.8760</td>\n",
       "      <td>2.2236</td>\n",
       "      <td>NaN</td>\n",
       "      <td>1.5066</td>\n",
       "      <td>2.2530</td>\n",
       "      <td>1.4417</td>\n",
       "      <td>1.4705</td>\n",
       "      <td>1.4771</td>\n",
       "      <td>3.0132</td>\n",
       "      <td>1.6398</td>\n",
       "    </tr>\n",
       "    <tr>\n",
       "      <th>honda</th>\n",
       "      <td>4.2683</td>\n",
       "      <td>1.6205</td>\n",
       "      <td>1.5066</td>\n",
       "      <td>NaN</td>\n",
       "      <td>1.7759</td>\n",
       "      <td>7.3503</td>\n",
       "      <td>2.7037</td>\n",
       "      <td>10.9391</td>\n",
       "      <td>5.2632</td>\n",
       "      <td>2.8643</td>\n",
       "    </tr>\n",
       "    <tr>\n",
       "      <th>infiniti</th>\n",
       "      <td>4.8187</td>\n",
       "      <td>3.6547</td>\n",
       "      <td>2.2530</td>\n",
       "      <td>1.7759</td>\n",
       "      <td>NaN</td>\n",
       "      <td>4.7599</td>\n",
       "      <td>3.2566</td>\n",
       "      <td>2.2254</td>\n",
       "      <td>4.2945</td>\n",
       "      <td>2.8692</td>\n",
       "    </tr>\n",
       "    <tr>\n",
       "      <th>nissan</th>\n",
       "      <td>3.1268</td>\n",
       "      <td>1.5233</td>\n",
       "      <td>1.4417</td>\n",
       "      <td>7.3503</td>\n",
       "      <td>4.7599</td>\n",
       "      <td>NaN</td>\n",
       "      <td>4.0151</td>\n",
       "      <td>9.8715</td>\n",
       "      <td>12.4138</td>\n",
       "      <td>3.6359</td>\n",
       "    </tr>\n",
       "    <tr>\n",
       "      <th>subaru</th>\n",
       "      <td>3.4990</td>\n",
       "      <td>3.3009</td>\n",
       "      <td>1.4705</td>\n",
       "      <td>2.7037</td>\n",
       "      <td>3.2566</td>\n",
       "      <td>4.0151</td>\n",
       "      <td>NaN</td>\n",
       "      <td>3.4918</td>\n",
       "      <td>13.6986</td>\n",
       "      <td>5.3583</td>\n",
       "    </tr>\n",
       "    <tr>\n",
       "      <th>toyota</th>\n",
       "      <td>2.2037</td>\n",
       "      <td>1.9424</td>\n",
       "      <td>1.4771</td>\n",
       "      <td>10.9391</td>\n",
       "      <td>2.2254</td>\n",
       "      <td>9.8715</td>\n",
       "      <td>3.4918</td>\n",
       "      <td>NaN</td>\n",
       "      <td>12.5490</td>\n",
       "      <td>2.8011</td>\n",
       "    </tr>\n",
       "    <tr>\n",
       "      <th>volkswagen</th>\n",
       "      <td>2.5543</td>\n",
       "      <td>5.8902</td>\n",
       "      <td>3.0132</td>\n",
       "      <td>5.2632</td>\n",
       "      <td>4.2945</td>\n",
       "      <td>12.4138</td>\n",
       "      <td>13.6986</td>\n",
       "      <td>12.5490</td>\n",
       "      <td>NaN</td>\n",
       "      <td>8.1633</td>\n",
       "    </tr>\n",
       "    <tr>\n",
       "      <th>volvo</th>\n",
       "      <td>3.2146</td>\n",
       "      <td>4.3257</td>\n",
       "      <td>1.6398</td>\n",
       "      <td>2.8643</td>\n",
       "      <td>2.8692</td>\n",
       "      <td>3.6359</td>\n",
       "      <td>5.3583</td>\n",
       "      <td>2.8011</td>\n",
       "      <td>8.1633</td>\n",
       "      <td>NaN</td>\n",
       "    </tr>\n",
       "  </tbody>\n",
       "</table>\n",
       "</div>"
      ],
      "text/plain": [
       "Brand 2      acura    audi     bmw  ...   toyota  volkswagen   volvo\n",
       "Brand 1                             ...                             \n",
       "acura          NaN  3.2142  1.8760  ...   2.2037      2.5543  3.2146\n",
       "audi        3.2142     NaN  2.2236  ...   1.9424      5.8902  4.3257\n",
       "bmw         1.8760  2.2236     NaN  ...   1.4771      3.0132  1.6398\n",
       "honda       4.2683  1.6205  1.5066  ...  10.9391      5.2632  2.8643\n",
       "infiniti    4.8187  3.6547  2.2530  ...   2.2254      4.2945  2.8692\n",
       "nissan      3.1268  1.5233  1.4417  ...   9.8715     12.4138  3.6359\n",
       "subaru      3.4990  3.3009  1.4705  ...   3.4918     13.6986  5.3583\n",
       "toyota      2.2037  1.9424  1.4771  ...      NaN     12.5490  2.8011\n",
       "volkswagen  2.5543  5.8902  3.0132  ...  12.5490         NaN  8.1633\n",
       "volvo       3.2146  4.3257  1.6398  ...   2.8011      8.1633     NaN\n",
       "\n",
       "[10 rows x 10 columns]"
      ]
     },
     "execution_count": 28,
     "metadata": {},
     "output_type": "execute_result"
    }
   ],
   "source": [
    "\n",
    "all_lift_ratios = pair_freq_df\n",
    "sim_matrix = all_lift_ratios.pivot(index='Brand 1', columns='Brand 2', values='Lift Ratio')\n",
    "np.fill_diagonal(sim_matrix.to_numpy(), None)\n",
    "# Dissimilarity matrix\n",
    "dis_matrix = 1/sim_matrix\n",
    "np.fill_diagonal(dis_matrix.to_numpy(), 0)\n",
    "print(\"Lift Calculations for brands: \")\n",
    "sim_matrix"
   ]
  },
  {
   "cell_type": "code",
   "execution_count": null,
   "metadata": {
    "colab": {
     "base_uri": "https://localhost:8080/",
     "height": 281
    },
    "id": "l0sHQjHeOd_B",
    "outputId": "d2734285-32c2-4eaf-b362-763e19b208c2"
   },
   "outputs": [
    {
     "data": {
      "image/png": "[encoded data removed]",
      "text/plain": [
       "<Figure size 432x288 with 1 Axes>"
      ]
     },
     "metadata": {
      "needs_background": "light"
     },
     "output_type": "display_data"
    }
   ],
   "source": [
    "from sklearn.manifold import MDS\n",
    "mds = MDS(2,random_state=0,dissimilarity='precomputed')\n",
    "dis_sim_2d_matrix = mds.fit_transform(dis_matrix) ##computes distances\n",
    "data = pd.DataFrame(dis_sim_2d_matrix, columns=['x', 'y'], index = dis_matrix.index)\n",
    "plt.scatter(data.x, data.y)\n",
    "ax = plt.gca()\n",
    "\n",
    "plt.title(\"MDS Map\")\n",
    "for index, x_val, y_val in data.itertuples():\n",
    "    ax.annotate(index, (x_val, y_val))"
   ]
  },
  {
   "cell_type": "markdown",
   "metadata": {
    "id": "jSso4qRr9-8j"
   },
   "source": [
    "**Clustering**"
   ]
  },
  {
   "cell_type": "code",
   "execution_count": null,
   "metadata": {
    "colab": {
     "base_uri": "https://localhost:8080/",
     "height": 298
    },
    "id": "Cd6fgLm4_n_m",
    "outputId": "3263e611-df85-4d81-8d8e-f2bae59159c1"
   },
   "outputs": [
    {
     "data": {
      "text/plain": [
       "Text(0.5, 1.0, 'Clustering Output')"
      ]
     },
     "execution_count": 31,
     "metadata": {},
     "output_type": "execute_result"
    },
    {
     "data": {
      "image/png": "[encoded data removed]",
      "text/plain": [
       "<Figure size 432x288 with 1 Axes>"
      ]
     },
     "metadata": {
      "needs_background": "light"
     },
     "output_type": "display_data"
    }
   ],
   "source": [
    "kmeans = KMeans(3)\n",
    "kmeans.fit(data)\n",
    "\n",
    "identified_clusters = kmeans.fit_predict(data)\n",
    "identified_clusters\n",
    "\n",
    "data_with_clusters = data.copy()\n",
    "\n",
    "data_with_clusters['Clusters'] = identified_clusters \n",
    "plt.scatter(data_with_clusters['x'],data_with_clusters['y'],c=data_with_clusters['Clusters'],cmap='rainbow')\n",
    "plt.title(\"Clustering Output\")\n"
   ]
  },
  {
   "cell_type": "markdown",
   "metadata": {
    "id": "Zafa3cL-QrDX"
   },
   "source": [
    "## **Task E: Insights from task C and D**\n",
    "\n",
    "High statistical lifts are observed between Nissan, Toyota and Honda as expected, implying that these brands have similar offerings and are considered to be close competitors. These brands are associated with economical options for quality and durability \n",
    "\n",
    "High lifts are also observed between Volkswagen, Toyota, Subaru, Nissan and Volvo as well. The KMeans clustering output places Volkswagen, Subaru, Volvo and Audi in the same cluster. Subaru and Volvo are synonymous with safety. \n",
    "\n",
    "BMW, Acura and Infiniti are the last cluster, indicating the luxury brands. It is rather surprising to see Audi not being a part of the luxury cluster.\n",
    "\n",
    "\n"
   ]
  },
  {
   "cell_type": "markdown",
   "metadata": {
    "id": "0wLZAzMyRk-Z"
   },
   "source": [
    "## **Task F: Top 5 Attributes and their Association with Brands**"
   ]
  },
  {
   "cell_type": "code",
   "execution_count": null,
   "metadata": {
    "colab": {
     "base_uri": "https://localhost:8080/"
    },
    "id": "Mb7UrZIhgjuo",
    "outputId": "29b0e5a0-4efc-425d-c40f-be029088eeac"
   },
   "outputs": [
    {
     "name": "stdout",
     "output_type": "stream",
     "text": [
      "[nltk_data] Downloading package stopwords to /root/nltk_data...\n",
      "[nltk_data]   Package stopwords is already up-to-date!\n"
     ]
    }
   ],
   "source": [
    "import nltk\n",
    "nltk.download('stopwords')\n",
    "from nltk.corpus import stopwords\n",
    "stop_words=stopwords.words('english')"
   ]
  },
  {
   "cell_type": "code",
   "execution_count": null,
   "metadata": {
    "id": "JCeXaDvigj3F"
   },
   "outputs": [],
   "source": [
    "# Count Word Frequency\n",
    "word_freq = {}\n",
    "for i in range((raw_data.shape[0])):\n",
    "    if type(replaced_df.loc[i,'comments']) == str: \n",
    "        user_comment=replaced_df.loc[i,'comments'].lower()\n",
    "        match_pattern = re.findall(r'\\b[a-z]{3,15}\\b', user_comment)\n",
    "        for word in match_pattern:\n",
    "            if word not in stop_words:\n",
    "                count = word_freq.get(word,0)\n",
    "                word_freq[word] = count + 1\n",
    "                \n",
    "word_freq_df = pd.DataFrame.from_dict(word_freq, orient='index', columns=['Frequency'])\n",
    "#word_freq_df.sort_values(by=['Frequency'], ascending=False).head(10)\n",
    "\n",
    "sorted=word_freq_df.sort_values(by=['Frequency'], ascending=False)\n",
    "word_freq_df.to_csv(\"word_freq.csv\")\n",
    "sorted.to_csv(\"sorted_word_freq.csv\")\n",
    "\n",
    "attributes = ['performance','luxury', 'interior','price','transmission','suspension',\n",
    "              'rwd','awd','handling','power','fwd','quality','sports','value','mileage',\n",
    "              'torque','speed', 'reliability','steering','design']\n",
    "\n",
    "\n",
    "# Looking through all the comments after the model names have been replaced by the brand names\n",
    "attributes_count_dict ={}\n",
    "for attribute in attributes:\n",
    "    for i in range((replaced_df.shape[0])):\n",
    "        if type(replaced_df.loc[i,'comments']) == str: \n",
    "            user_comment=replaced_df.loc[i,'comments'].lower()\n",
    "        if (attribute.lower() in user_comment):\n",
    "            if attribute not in attributes_count_dict:\n",
    "                attributes_count_dict[attribute] = 1\n",
    "            else:\n",
    "                attributes_count_dict[attribute] += 1"
   ]
  },
  {
   "cell_type": "code",
   "execution_count": null,
   "metadata": {
    "colab": {
     "base_uri": "https://localhost:8080/"
    },
    "id": "3vWgM3eRgj6T",
    "outputId": "4d48902e-70b3-41b6-b4ce-a4fdc7c76f8b"
   },
   "outputs": [
    {
     "name": "stdout",
     "output_type": "stream",
     "text": [
      "Top 5 attributes: \n",
      "             Frequency\n",
      "performance       1306\n",
      "price             1198\n",
      "luxury            1063\n",
      "power              997\n",
      "interior           814\n"
     ]
    }
   ],
   "source": [
    "# Making the dictionary into a dataframe\n",
    "attributes_count_df = pd.DataFrame.from_dict(attributes_count_dict, orient='index', columns=['Frequency'])\n",
    "print(\"Top 5 attributes: \")\n",
    "print(attributes_count_df.sort_values(by=['Frequency'], ascending=False).head(5))\n",
    "\n",
    "top_five_attributes=attributes_count_df.sort_values(by=['Frequency'], ascending=False).head(5).index.to_list()"
   ]
  },
  {
   "cell_type": "code",
   "execution_count": null,
   "metadata": {
    "id": "bEp9Uakpgj9A"
   },
   "outputs": [],
   "source": [
    "# Creating a list that creates the pairs a brand with an atrribute name to find the frequency when both are mentioned at the same time in a comment\n",
    "# performance bmw\n",
    "# performance toyota\n",
    "# performance acura\n",
    "\n",
    "i= 0 \n",
    "ba_lift_dict={}\n",
    "ba_used_list=[]\n",
    "for name1 in top_ten_brands:\n",
    "    for name2 in top_five_attributes:\n",
    "        i+=1\n",
    "        ba_lift_dict[i] = []\n",
    "        ba_lift_dict[i].append(name1)\n",
    "        ba_lift_dict[i].append(name2)\n",
    "    ba_used_list.append(name1)\n",
    "\n",
    "pair_brand=[]\n",
    "pair_attribute=[]\n",
    "ba_freq=[]\n",
    "for pair in ba_lift_dict.values():\n",
    "    pair_brand.append(pair[0])\n",
    "    pair_attribute.append(pair[1])\n",
    "    ba_freq.append(0)\n",
    "\n",
    "for i in range(len(pair_brand)):\n",
    "    for j in range((replaced_df.shape[0])):\n",
    "        if type(replaced_df.loc[j,'comments']) == str: \n",
    "            user_comment=replaced_df.loc[j,'comments'].lower()\n",
    "            if ((pair_brand[i].lower() in user_comment) and (pair_attribute[i].lower() in user_comment)):\n",
    "                num=ba_freq[i]+1\n",
    "                ba_freq[i]=num"
   ]
  },
  {
   "cell_type": "code",
   "execution_count": null,
   "metadata": {
    "id": "hEaDh5rzgj_x"
   },
   "outputs": [],
   "source": [
    "# Creating a dataframe of the information\n",
    "ba_pair_freq_df= pd.DataFrame(pair_brand, columns = ['Brand'])\n",
    "ba_pair_freq_df[\"Attribute\"]=pair_attribute\n",
    "ba_pair_freq_df[\"Frequency\"]=ba_freq\n",
    "\n",
    "# Finding the lift ratio for each pair\n",
    "samples = raw_data.shape[0]\n",
    "ba_lift_ratio_list = []\n",
    "for i in range((ba_pair_freq_df.shape[0])):\n",
    "    pair_freq = ba_pair_freq_df.loc[i,'Frequency']\n",
    "    brand_pair = ba_pair_freq_df.loc[i,'Brand']\n",
    "    attribute_pair = ba_pair_freq_df.loc[i,'Attribute']\n",
    "    A_freq = replaced_count_df.loc[brand_pair].to_numpy()[0]\n",
    "    B_freq = attributes_count_df.loc[attribute_pair].to_numpy()[0]\n",
    "    ba_lift_ratio = (samples*pair_freq)/(A_freq*B_freq)\n",
    "    ba_lift_ratio_list.append(ba_lift_ratio)\n",
    "    \n",
    "# Creating a dataframe that shows the two brand names and their lift ratio\n",
    "ba_lift_ratio_df= pd.DataFrame(pair_brand, columns = ['Brand'])\n",
    "ba_lift_ratio_df[\"Attribute\"]=pair_attribute\n",
    "ba_lift_ratio_df[\"Lift Ratio\"]=ba_lift_ratio_list"
   ]
  },
  {
   "cell_type": "code",
   "execution_count": null,
   "metadata": {
    "colab": {
     "base_uri": "https://localhost:8080/",
     "height": 388
    },
    "id": "CZ_UflpHgkFB",
    "outputId": "f9d18399-c781-4f20-ec37-9e7baee49a45"
   },
   "outputs": [
    {
     "data": {
      "text/html": [
       "<div>\n",
       "<style scoped>\n",
       "    .dataframe tbody tr th:only-of-type {\n",
       "        vertical-align: middle;\n",
       "    }\n",
       "\n",
       "    .dataframe tbody tr th {\n",
       "        vertical-align: top;\n",
       "    }\n",
       "\n",
       "    .dataframe thead th {\n",
       "        text-align: right;\n",
       "    }\n",
       "</style>\n",
       "<table border=\"1\" class=\"dataframe\">\n",
       "  <thead>\n",
       "    <tr style=\"text-align: right;\">\n",
       "      <th>Attribute</th>\n",
       "      <th>interior</th>\n",
       "      <th>luxury</th>\n",
       "      <th>performance</th>\n",
       "      <th>power</th>\n",
       "      <th>price</th>\n",
       "    </tr>\n",
       "    <tr>\n",
       "      <th>Brand</th>\n",
       "      <th></th>\n",
       "      <th></th>\n",
       "      <th></th>\n",
       "      <th></th>\n",
       "      <th></th>\n",
       "    </tr>\n",
       "  </thead>\n",
       "  <tbody>\n",
       "    <tr>\n",
       "      <th>acura</th>\n",
       "      <td>1.757243</td>\n",
       "      <td>2.294766</td>\n",
       "      <td>1.770002</td>\n",
       "      <td>1.780565</td>\n",
       "      <td>1.705695</td>\n",
       "    </tr>\n",
       "    <tr>\n",
       "      <th>audi</th>\n",
       "      <td>2.664220</td>\n",
       "      <td>1.826056</td>\n",
       "      <td>1.455541</td>\n",
       "      <td>2.054356</td>\n",
       "      <td>1.620282</td>\n",
       "    </tr>\n",
       "    <tr>\n",
       "      <th>bmw</th>\n",
       "      <td>1.415900</td>\n",
       "      <td>1.470450</td>\n",
       "      <td>1.511206</td>\n",
       "      <td>1.601792</td>\n",
       "      <td>1.625433</td>\n",
       "    </tr>\n",
       "    <tr>\n",
       "      <th>honda</th>\n",
       "      <td>1.066856</td>\n",
       "      <td>2.054761</td>\n",
       "      <td>1.390344</td>\n",
       "      <td>2.032413</td>\n",
       "      <td>1.581583</td>\n",
       "    </tr>\n",
       "    <tr>\n",
       "      <th>infiniti</th>\n",
       "      <td>1.903046</td>\n",
       "      <td>1.904553</td>\n",
       "      <td>1.655878</td>\n",
       "      <td>1.476823</td>\n",
       "      <td>1.779551</td>\n",
       "    </tr>\n",
       "    <tr>\n",
       "      <th>nissan</th>\n",
       "      <td>1.482674</td>\n",
       "      <td>1.362442</td>\n",
       "      <td>1.346570</td>\n",
       "      <td>2.075191</td>\n",
       "      <td>1.208911</td>\n",
       "    </tr>\n",
       "    <tr>\n",
       "      <th>subaru</th>\n",
       "      <td>1.851166</td>\n",
       "      <td>3.221691</td>\n",
       "      <td>1.520905</td>\n",
       "      <td>2.060977</td>\n",
       "      <td>1.600842</td>\n",
       "    </tr>\n",
       "    <tr>\n",
       "      <th>toyota</th>\n",
       "      <td>1.156236</td>\n",
       "      <td>2.176600</td>\n",
       "      <td>1.141038</td>\n",
       "      <td>1.219344</td>\n",
       "      <td>1.374840</td>\n",
       "    </tr>\n",
       "    <tr>\n",
       "      <th>volkswagen</th>\n",
       "      <td>0.982801</td>\n",
       "      <td>4.139229</td>\n",
       "      <td>0.918836</td>\n",
       "      <td>3.610832</td>\n",
       "      <td>2.671119</td>\n",
       "    </tr>\n",
       "    <tr>\n",
       "      <th>volvo</th>\n",
       "      <td>1.671430</td>\n",
       "      <td>2.719809</td>\n",
       "      <td>1.562646</td>\n",
       "      <td>1.330522</td>\n",
       "      <td>1.589952</td>\n",
       "    </tr>\n",
       "  </tbody>\n",
       "</table>\n",
       "</div>"
      ],
      "text/plain": [
       "Attribute   interior    luxury  performance     power     price\n",
       "Brand                                                          \n",
       "acura       1.757243  2.294766     1.770002  1.780565  1.705695\n",
       "audi        2.664220  1.826056     1.455541  2.054356  1.620282\n",
       "bmw         1.415900  1.470450     1.511206  1.601792  1.625433\n",
       "honda       1.066856  2.054761     1.390344  2.032413  1.581583\n",
       "infiniti    1.903046  1.904553     1.655878  1.476823  1.779551\n",
       "nissan      1.482674  1.362442     1.346570  2.075191  1.208911\n",
       "subaru      1.851166  3.221691     1.520905  2.060977  1.600842\n",
       "toyota      1.156236  2.176600     1.141038  1.219344  1.374840\n",
       "volkswagen  0.982801  4.139229     0.918836  3.610832  2.671119\n",
       "volvo       1.671430  2.719809     1.562646  1.330522  1.589952"
      ]
     },
     "execution_count": 39,
     "metadata": {},
     "output_type": "execute_result"
    }
   ],
   "source": [
    "ba_lift_ratio_df.pivot_table(values='Lift Ratio', index=\"Brand\", columns=\"Attribute\")"
   ]
  },
  {
   "cell_type": "markdown",
   "metadata": {
    "id": "LZMB77B6R30R"
   },
   "source": [
    "## **Task G: Insights from Task F**\n",
    "\n"
   ]
  },
  {
   "cell_type": "markdown",
   "metadata": {
    "id": "WNMeC7abApo_"
   },
   "source": [
    "At a cluster level, our observations are as follows – \n",
    "\n",
    "- In case of the cluster having Acura, Infiniti and BMW, Acura was most likely to be associated with luxury, performance, and power. Infiniti was likely to be known for its price and interiors. BMW on the other hand was the most mentioned brand in the corpus of comments – considering that it had high confidence, it was not surprising that its lifts with the attributes were relatively lower compared to the other brands\n",
    "\n",
    "- In case of the cluster having Audi, Volkswagen, Subaru and Volvo, Volkswagen was found to be most likely to be associated with luxury, power, and price; while Audi was most likely to be associated with interiors\n",
    "\n",
    "- Considering the cluster having the Japanese brands of Honda, Nissan, and Toyota, we observe that while Honda had high lifts with luxury, power, and price; Nissan was likely to be known for its models’ power. Toyota was found to be more synonymous with luxury as compared to the other two.\n"
   ]
  },
  {
   "cell_type": "markdown",
   "metadata": {
    "id": "GsrGxObLSVUh"
   },
   "source": [
    "## **Task H: Identification of Aspirational Brand and Business Implication**"
   ]
  },
  {
   "cell_type": "code",
   "execution_count": null,
   "metadata": {
    "colab": {
     "base_uri": "https://localhost:8080/"
    },
    "id": "Dp4O11vo8qPS",
    "outputId": "363f4b3e-1dad-4cf5-db0b-801c0c131384"
   },
   "outputs": [
    {
     "data": {
      "text/plain": [
       "75"
      ]
     },
     "execution_count": 41,
     "metadata": {},
     "output_type": "execute_result"
    }
   ],
   "source": [
    "aspiration = ['be great if I owned',\n",
    "              'be great if I had',\n",
    "              'wish to buy',\n",
    "              'wish to own',\n",
    "              'love to have',\n",
    "              'love to buy',\n",
    "              'If I had the money',\n",
    "              'dream is to buy',\n",
    "              'dream is to purchase',\n",
    "              'dream is to own',\n",
    "              'had all the money in the world',\n",
    "              'is my dream',\n",
    "              'want to get',\n",
    "              'want to drive',\n",
    "              'love to get',\n",
    "              'love to drive',\n",
    "              'wish to get',\n",
    "              'wish to drive',\n",
    "              'be great to get',\n",
    "              'be great to drive'\n",
    "              ]\n",
    "\n",
    "aspirational_comment = []\n",
    "\n",
    "for i in df_X['comments']:\n",
    "    for j in aspiration:\n",
    "        if j in i:\n",
    "            aspirational_comment.append(i)\n",
    "            \n",
    "len(aspirational_comment)             "
   ]
  },
  {
   "cell_type": "code",
   "execution_count": null,
   "metadata": {
    "id": "euLILpHY94_Z"
   },
   "outputs": [],
   "source": [
    "car_list = df_Y['word'].to_list()\n",
    "car_count_list = []\n",
    "\n",
    "\n",
    "for i in aspirational_comment:\n",
    "    kiko = []\n",
    "    for j in car_list:\n",
    "        if j in i:\n",
    "            if j not in kiko:\n",
    "                car_count_list.append(j)\n",
    "                kiko.append(j)\n",
    "\n",
    "df_aspiration = pd.DataFrame(columns = ['brand', 'count'])\n",
    "df_aspiration['brand'] = pd.array(car_count_list)\n",
    "count_brand = df_aspiration['brand'].value_counts()\n",
    "def count_the_brand(x):\n",
    "  return count_brand[x]\n",
    "\n",
    "df_aspiration['count'] = df_aspiration['brand'].map(count_the_brand)\n",
    "\n",
    "df_aspiration = df_aspiration.drop_duplicates(['brand'])\n"
   ]
  },
  {
   "cell_type": "code",
   "execution_count": null,
   "metadata": {
    "id": "5kr3mljbAbKM"
   },
   "outputs": [],
   "source": [
    "kiko = []\n",
    "car_ww = []\n",
    "for i in df_X['comments']:\n",
    "  kiko = []\n",
    "  for j in car_list:\n",
    "    if j in i:\n",
    "      if j not in kiko:\n",
    "        car_ww.append(j)\n",
    "\n",
    "df_ww = pd.DataFrame(columns = ['car','count'])\n",
    "df_ww['car'] = np.array(car_ww)"
   ]
  },
  {
   "cell_type": "code",
   "execution_count": null,
   "metadata": {
    "id": "CdICSO1qBqdQ"
   },
   "outputs": [],
   "source": [
    "count_ww = df_ww['car'].value_counts()\n",
    "def get_ww_count(x):\n",
    "  return count_ww[x]\n",
    "df_ww['count'] = df_ww['car'].map(get_ww_count)"
   ]
  },
  {
   "cell_type": "code",
   "execution_count": null,
   "metadata": {
    "id": "tnQmCsd8CA70"
   },
   "outputs": [],
   "source": [
    "df_ww = df_ww.drop_duplicates(['car'])\n",
    "car_list_aspiration = df_aspiration['brand'].to_list()"
   ]
  },
  {
   "cell_type": "code",
   "execution_count": null,
   "metadata": {
    "id": "T8Bia91AJHK_"
   },
   "outputs": [],
   "source": [
    "def get_count_for_ww(x):\n",
    "  if x in car_list_aspiration:\n",
    "    return count_brand[x]\n",
    "  else:\n",
    "    return 0\n",
    "  \n",
    "df_ww['aspiration_count'] = df_ww['car'].map(get_count_for_ww)"
   ]
  },
  {
   "cell_type": "code",
   "execution_count": null,
   "metadata": {
    "id": "NFJPu3LDJlOu"
   },
   "outputs": [],
   "source": [
    "def calc_lift_as(x):\n",
    "  return (10000 * df_ww['aspiration_count'])/(df_ww['count'] + len(aspirational_comment))\n",
    "\n",
    "df_ww['lift'] = df_ww['car'].map(calc_lift_as)\n",
    "df_ww['lift'] = df_ww['lift'][0]"
   ]
  },
  {
   "cell_type": "code",
   "execution_count": null,
   "metadata": {
    "colab": {
     "base_uri": "https://localhost:8080/",
     "height": 850
    },
    "id": "Q0RzUixQN4aW",
    "outputId": "0fdffa8c-9dd4-4bda-c300-174a1e82e95a"
   },
   "outputs": [
    {
     "data": {
      "text/html": [
       "<div>\n",
       "<style scoped>\n",
       "    .dataframe tbody tr th:only-of-type {\n",
       "        vertical-align: middle;\n",
       "    }\n",
       "\n",
       "    .dataframe tbody tr th {\n",
       "        vertical-align: top;\n",
       "    }\n",
       "\n",
       "    .dataframe thead th {\n",
       "        text-align: right;\n",
       "    }\n",
       "</style>\n",
       "<table border=\"1\" class=\"dataframe\">\n",
       "  <thead>\n",
       "    <tr style=\"text-align: right;\">\n",
       "      <th></th>\n",
       "      <th>car</th>\n",
       "      <th>count</th>\n",
       "      <th>aspiration_count</th>\n",
       "      <th>lift</th>\n",
       "    </tr>\n",
       "  </thead>\n",
       "  <tbody>\n",
       "    <tr>\n",
       "      <th>124</th>\n",
       "      <td>pontiac</td>\n",
       "      <td>67</td>\n",
       "      <td>2</td>\n",
       "      <td>140.845070</td>\n",
       "    </tr>\n",
       "    <tr>\n",
       "      <th>6</th>\n",
       "      <td>chrysler</td>\n",
       "      <td>86</td>\n",
       "      <td>2</td>\n",
       "      <td>124.223602</td>\n",
       "    </tr>\n",
       "    <tr>\n",
       "      <th>1</th>\n",
       "      <td>acura</td>\n",
       "      <td>783</td>\n",
       "      <td>9</td>\n",
       "      <td>104.895105</td>\n",
       "    </tr>\n",
       "    <tr>\n",
       "      <th>64</th>\n",
       "      <td>subaru</td>\n",
       "      <td>146</td>\n",
       "      <td>2</td>\n",
       "      <td>90.497738</td>\n",
       "    </tr>\n",
       "    <tr>\n",
       "      <th>5</th>\n",
       "      <td>ford</td>\n",
       "      <td>369</td>\n",
       "      <td>4</td>\n",
       "      <td>90.090090</td>\n",
       "    </tr>\n",
       "    <tr>\n",
       "      <th>0</th>\n",
       "      <td>bmw</td>\n",
       "      <td>2655</td>\n",
       "      <td>24</td>\n",
       "      <td>87.912088</td>\n",
       "    </tr>\n",
       "    <tr>\n",
       "      <th>2</th>\n",
       "      <td>audi</td>\n",
       "      <td>747</td>\n",
       "      <td>7</td>\n",
       "      <td>85.158151</td>\n",
       "    </tr>\n",
       "    <tr>\n",
       "      <th>28</th>\n",
       "      <td>lincoln</td>\n",
       "      <td>166</td>\n",
       "      <td>2</td>\n",
       "      <td>82.987552</td>\n",
       "    </tr>\n",
       "    <tr>\n",
       "      <th>13</th>\n",
       "      <td>cadillac</td>\n",
       "      <td>361</td>\n",
       "      <td>3</td>\n",
       "      <td>68.807339</td>\n",
       "    </tr>\n",
       "    <tr>\n",
       "      <th>9</th>\n",
       "      <td>honda</td>\n",
       "      <td>380</td>\n",
       "      <td>3</td>\n",
       "      <td>65.934066</td>\n",
       "    </tr>\n",
       "    <tr>\n",
       "      <th>17</th>\n",
       "      <td>infiniti</td>\n",
       "      <td>652</td>\n",
       "      <td>4</td>\n",
       "      <td>55.020633</td>\n",
       "    </tr>\n",
       "    <tr>\n",
       "      <th>7</th>\n",
       "      <td>buick</td>\n",
       "      <td>111</td>\n",
       "      <td>1</td>\n",
       "      <td>53.763441</td>\n",
       "    </tr>\n",
       "    <tr>\n",
       "      <th>172</th>\n",
       "      <td>hyundai</td>\n",
       "      <td>120</td>\n",
       "      <td>1</td>\n",
       "      <td>51.282051</td>\n",
       "    </tr>\n",
       "    <tr>\n",
       "      <th>3</th>\n",
       "      <td>toyota</td>\n",
       "      <td>255</td>\n",
       "      <td>1</td>\n",
       "      <td>30.303030</td>\n",
       "    </tr>\n",
       "    <tr>\n",
       "      <th>27</th>\n",
       "      <td>nissan</td>\n",
       "      <td>290</td>\n",
       "      <td>1</td>\n",
       "      <td>27.397260</td>\n",
       "    </tr>\n",
       "    <tr>\n",
       "      <th>82</th>\n",
       "      <td>volvo</td>\n",
       "      <td>294</td>\n",
       "      <td>1</td>\n",
       "      <td>27.100271</td>\n",
       "    </tr>\n",
       "    <tr>\n",
       "      <th>4</th>\n",
       "      <td>mercedes</td>\n",
       "      <td>332</td>\n",
       "      <td>1</td>\n",
       "      <td>24.570025</td>\n",
       "    </tr>\n",
       "    <tr>\n",
       "      <th>1026</th>\n",
       "      <td>mercury</td>\n",
       "      <td>17</td>\n",
       "      <td>0</td>\n",
       "      <td>0.000000</td>\n",
       "    </tr>\n",
       "    <tr>\n",
       "      <th>607</th>\n",
       "      <td>kia</td>\n",
       "      <td>41</td>\n",
       "      <td>0</td>\n",
       "      <td>0.000000</td>\n",
       "    </tr>\n",
       "    <tr>\n",
       "      <th>590</th>\n",
       "      <td>saturn</td>\n",
       "      <td>26</td>\n",
       "      <td>0</td>\n",
       "      <td>0.000000</td>\n",
       "    </tr>\n",
       "    <tr>\n",
       "      <th>67</th>\n",
       "      <td>suzuki</td>\n",
       "      <td>16</td>\n",
       "      <td>0</td>\n",
       "      <td>0.000000</td>\n",
       "    </tr>\n",
       "    <tr>\n",
       "      <th>170</th>\n",
       "      <td>volkswagen</td>\n",
       "      <td>25</td>\n",
       "      <td>0</td>\n",
       "      <td>0.000000</td>\n",
       "    </tr>\n",
       "    <tr>\n",
       "      <th>90</th>\n",
       "      <td>dodge</td>\n",
       "      <td>70</td>\n",
       "      <td>0</td>\n",
       "      <td>0.000000</td>\n",
       "    </tr>\n",
       "    <tr>\n",
       "      <th>66</th>\n",
       "      <td>mitsubishi</td>\n",
       "      <td>32</td>\n",
       "      <td>0</td>\n",
       "      <td>0.000000</td>\n",
       "    </tr>\n",
       "    <tr>\n",
       "      <th>65</th>\n",
       "      <td>mazda</td>\n",
       "      <td>201</td>\n",
       "      <td>0</td>\n",
       "      <td>0.000000</td>\n",
       "    </tr>\n",
       "    <tr>\n",
       "      <th>1066</th>\n",
       "      <td>chevrolet</td>\n",
       "      <td>14</td>\n",
       "      <td>0</td>\n",
       "      <td>0.000000</td>\n",
       "    </tr>\n",
       "  </tbody>\n",
       "</table>\n",
       "</div>"
      ],
      "text/plain": [
       "             car  count  aspiration_count        lift\n",
       "124      pontiac     67                 2  140.845070\n",
       "6       chrysler     86                 2  124.223602\n",
       "1          acura    783                 9  104.895105\n",
       "64        subaru    146                 2   90.497738\n",
       "5           ford    369                 4   90.090090\n",
       "0            bmw   2655                24   87.912088\n",
       "2           audi    747                 7   85.158151\n",
       "28       lincoln    166                 2   82.987552\n",
       "13      cadillac    361                 3   68.807339\n",
       "9          honda    380                 3   65.934066\n",
       "17      infiniti    652                 4   55.020633\n",
       "7          buick    111                 1   53.763441\n",
       "172      hyundai    120                 1   51.282051\n",
       "3         toyota    255                 1   30.303030\n",
       "27        nissan    290                 1   27.397260\n",
       "82         volvo    294                 1   27.100271\n",
       "4       mercedes    332                 1   24.570025\n",
       "1026     mercury     17                 0    0.000000\n",
       "607          kia     41                 0    0.000000\n",
       "590       saturn     26                 0    0.000000\n",
       "67        suzuki     16                 0    0.000000\n",
       "170   volkswagen     25                 0    0.000000\n",
       "90         dodge     70                 0    0.000000\n",
       "66    mitsubishi     32                 0    0.000000\n",
       "65         mazda    201                 0    0.000000\n",
       "1066   chevrolet     14                 0    0.000000"
      ]
     },
     "execution_count": 48,
     "metadata": {},
     "output_type": "execute_result"
    }
   ],
   "source": [
    "df_ww.sort_values(by = 'lift', ascending = False)"
   ]
  },
  {
   "cell_type": "markdown",
   "metadata": {
    "id": "HVT4FGAil64b"
   },
   "source": [
    "Pontiac was found to have the highest lift ratio of approx. 140 with the aspirational phrases. However, considering the low confidence of Pontiac (mentions in only 62 of the 10,000 comments scraped), it is not \n",
    "fair to conclude it to be the most aspirational brand. \n",
    "\n",
    "We have limited our answer only to the Top-10 brands identified, as they have a decently high value of confidence. Hence, Acura (Lift = 104.9) and BMW (87.9) have been considered as the most aspirational brands"
   ]
  },
  {
   "cell_type": "code",
   "execution_count": null,
   "metadata": {
    "id": "W6fG_yIXnCnR"
   },
   "outputs": [],
   "source": []
  }
 ],
 "metadata": {
  "accelerator": "GPU",
  "colab": {
   "collapsed_sections": [],
   "name": "AUD_Assignment_1_V1.ipynb",
   "provenance": [],
   "toc_visible": true
  },
  "kernelspec": {
   "display_name": "Python 3",
   "language": "python",
   "name": "python3"
  },
  "language_info": {
   "codemirror_mode": {
    "name": "ipython",
    "version": 3
   },
   "file_extension": ".py",
   "mimetype": "text/x-python",
   "name": "python",
   "nbconvert_exporter": "python",
   "pygments_lexer": "ipython3",
   "version": "3.8.8"
  }
 },
 "nbformat": 4,
 "nbformat_minor": 1
}
